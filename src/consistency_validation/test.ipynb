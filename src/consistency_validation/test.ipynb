{
 "cells": [
  {
   "cell_type": "code",
   "execution_count": 8,
   "id": "379ce284",
   "metadata": {},
   "outputs": [],
   "source": [
    "from rdflib import Graph, RDF\n",
    "from rdflib.namespace import SH\n",
    "from collections import defaultdict\n",
    "from itertools import zip_longest\n",
    "import rdflib"
   ]
  },
  {
   "cell_type": "code",
   "execution_count": 2,
   "id": "9f4d4999",
   "metadata": {},
   "outputs": [],
   "source": [
    "cm_g = Graph().parse(\"/Users/duanxuemin/Desktop/PhD/projects/cm2shacl/evaluation/standardForms/package_F03/cm_shacl.ttl\", format=\"turtle\")\n",
    "\n",
    "rml_g = Graph().parse(\"/Users/duanxuemin/Desktop/PhD/projects/cm2shacl/evaluation/standardForms/package_F03/rml_shacl.ttl\", format=\"turtle\")\n",
    "\n",
    "owl_g = Graph().parse(\"/Users/duanxuemin/Desktop/PhD/projects/cm2shacl/evaluation/standardForms/package_F03/owl_shacl_rewrite.ttl\", format=\"turtle\")"
   ]
  },
  {
   "cell_type": "code",
   "execution_count": 4,
   "id": "d03de0a2",
   "metadata": {},
   "outputs": [],
   "source": [
    "def extract_constraint_tuple(graph, shape):\n",
    "    \"\"\"\n",
    "    Extract a single (datatype, nodeKind, class) constraint.\n",
    "    If no_or=True: treat shape as atomic.\n",
    "    \"\"\"\n",
    "    d = graph.value(subject=shape, predicate=SH.datatype)\n",
    "    k = graph.value(subject=shape, predicate=SH.nodeKind)\n",
    "    c = graph.value(subject=shape, predicate=SH[\"class\"])\n",
    "\n",
    "    # sh:node 替代 class\n",
    "    if not c:\n",
    "        node = graph.value(subject=shape, predicate=SH.node)\n",
    "        if node:\n",
    "            c = graph.value(subject=node, predicate=SH[\"class\"])\n",
    "\n",
    "    return (\n",
    "        str(d) if d else None,\n",
    "        str(k) if k else None,\n",
    "        str(c) if c else None,\n",
    "    )"
   ]
  },
  {
   "cell_type": "code",
   "execution_count": 3,
   "id": "1b9e7137",
   "metadata": {},
   "outputs": [],
   "source": [
    "def extract_constraints_general(graph, source_type):\n",
    "    \"\"\"\n",
    "    For each (targetClass, path), extract all constraints.\n",
    "    Return: dict mapping (class, path) -> set of (datatype, nodeKind, class)\n",
    "    \"\"\"\n",
    "    shape_map = defaultdict(list) \n",
    "    # Step 1: 构建 (targetClass, path) 到 shape 的映射\n",
    "    for s,_,cls in graph.triples((None,SH.targetClass,None)):\n",
    "            for ps in graph.objects(s, SH.property):\n",
    "                    path = graph.value(ps, SH.path)\n",
    "                    if path:\n",
    "                        shape_map[(cls, path)].append(ps)\n",
    "            path = graph.value(s, SH.path)\n",
    "            if path:\n",
    "                shape_map[(cls, path)].append(s)\n",
    "    constraint_map = {}\n",
    "    \n",
    "    for (cls, path), shape_list in shape_map.items():\n",
    "        datatype_set = set()\n",
    "        nodekind_set = set()\n",
    "        class_set = set()\n",
    "        for shape in shape_list:\n",
    "            d, k, c = extract_constraint_tuple(graph, shape)\n",
    "            if d: datatype_set.add(d)\n",
    "            if k: nodekind_set.add(k)\n",
    "            if c: class_set.add(c)\n",
    "            or_node = graph.value(subject=shape, predicate=SH[\"or\"])\n",
    "            if or_node:\n",
    "                for alt in graph.items(or_node):\n",
    "                    d, k, c = extract_constraint_tuple(graph, alt)\n",
    "                    if d: datatype_set.add(d)\n",
    "                    if k: nodekind_set.add(k)\n",
    "                    if c: class_set.add(c)\n",
    "        constraint_map[(cls, path)] = {SH.datatype: datatype_set,\n",
    "                                        SH.nodeKind: nodekind_set,\n",
    "                                        SH[\"class\"]: class_set}\n",
    "    return constraint_map"
   ]
  },
  {
   "cell_type": "code",
   "execution_count": 5,
   "id": "bbf5901a",
   "metadata": {},
   "outputs": [],
   "source": [
    "m = extract_constraints_general(cm_g, \"cm\")"
   ]
  },
  {
   "cell_type": "code",
   "execution_count": 22,
   "id": "e95b85fe",
   "metadata": {},
   "outputs": [
    {
     "data": {
      "text/plain": [
       "{(rdflib.term.URIRef('http://data.europa.eu/a4g/ontology#OrganisationGroup'),\n",
       "  rdflib.term.URIRef('http://data.europa.eu/a4g/ontology#hasMember')): {rdflib.term.URIRef('http://www.w3.org/ns/shacl#datatype'): set(),\n",
       "  rdflib.term.URIRef('http://www.w3.org/ns/shacl#nodeKind'): {'http://www.w3.org/ns/shacl#IRI'},\n",
       "  rdflib.term.URIRef('http://www.w3.org/ns/shacl#class'): {'http://www.w3.org/ns/org#Organization'}},\n",
       " (rdflib.term.URIRef('http://data.europa.eu/a4g/ontology#ProcurementProcessInformation'),\n",
       "  rdflib.term.URIRef('http://data.europa.eu/a4g/ontology#isDPSTerminated')): {rdflib.term.URIRef('http://www.w3.org/ns/shacl#datatype'): {'http://www.w3.org/2001/XMLSchema#boolean'},\n",
       "  rdflib.term.URIRef('http://www.w3.org/ns/shacl#nodeKind'): {'http://www.w3.org/ns/shacl#Literal'},\n",
       "  rdflib.term.URIRef('http://www.w3.org/ns/shacl#class'): set()},\n",
       " (rdflib.term.URIRef('http://data.europa.eu/a4g/ontology#ProcurementProcessInformation'),\n",
       "  rdflib.term.URIRef('http://data.europa.eu/a4g/ontology#concernsProcedure')): {rdflib.term.URIRef('http://www.w3.org/ns/shacl#datatype'): set(),\n",
       "  rdflib.term.URIRef('http://www.w3.org/ns/shacl#nodeKind'): {'http://www.w3.org/ns/shacl#IRI'},\n",
       "  rdflib.term.URIRef('http://www.w3.org/ns/shacl#class'): {'http://data.europa.eu/a4g/ontology#Procedure'}},\n",
       " (rdflib.term.URIRef('http://data.europa.eu/a4g/ontology#ProcurementProcessInformation'),\n",
       "  rdflib.term.URIRef('http://data.europa.eu/a4g/ontology#isCompetitionTerminated')): {rdflib.term.URIRef('http://www.w3.org/ns/shacl#datatype'): {'http://www.w3.org/2001/XMLSchema#boolean'},\n",
       "  rdflib.term.URIRef('http://www.w3.org/ns/shacl#nodeKind'): {'http://www.w3.org/ns/shacl#Literal'},\n",
       "  rdflib.term.URIRef('http://www.w3.org/ns/shacl#class'): set()},\n",
       " (rdflib.term.URIRef('http://data.europa.eu/a4g/ontology#ResultNotice'),\n",
       "  rdflib.term.URIRef('http://data.europa.eu/a4g/ontology#announcesNoticeAwardInformation')): {rdflib.term.URIRef('http://www.w3.org/ns/shacl#datatype'): set(),\n",
       "  rdflib.term.URIRef('http://www.w3.org/ns/shacl#nodeKind'): {'http://www.w3.org/ns/shacl#IRI'},\n",
       "  rdflib.term.URIRef('http://www.w3.org/ns/shacl#class'): {'http://data.europa.eu/a4g/ontology#NoticeAwardInformation'}},\n",
       " (rdflib.term.URIRef('http://data.europa.eu/a4g/ontology#SubmissionStatisticalInformation'),\n",
       "  rdflib.term.URIRef('http://data.europa.eu/a4g/ontology#hasReceivedTenders')): {rdflib.term.URIRef('http://www.w3.org/ns/shacl#datatype'): {'http://www.w3.org/2001/XMLSchema#integer'},\n",
       "  rdflib.term.URIRef('http://www.w3.org/ns/shacl#nodeKind'): {'http://www.w3.org/ns/shacl#Literal'},\n",
       "  rdflib.term.URIRef('http://www.w3.org/ns/shacl#class'): set()},\n",
       " (rdflib.term.URIRef('http://data.europa.eu/a4g/ontology#SubmissionStatisticalInformation'),\n",
       "  rdflib.term.URIRef('http://data.europa.eu/a4g/ontology#hasReceivedNonEUTenders')): {rdflib.term.URIRef('http://www.w3.org/ns/shacl#datatype'): {'http://www.w3.org/2001/XMLSchema#integer'},\n",
       "  rdflib.term.URIRef('http://www.w3.org/ns/shacl#nodeKind'): {'http://www.w3.org/ns/shacl#Literal'},\n",
       "  rdflib.term.URIRef('http://www.w3.org/ns/shacl#class'): set()},\n",
       " (rdflib.term.URIRef('http://data.europa.eu/a4g/ontology#SubmissionStatisticalInformation'),\n",
       "  rdflib.term.URIRef('http://data.europa.eu/a4g/ontology#hasHighestReceivedTenderValue')): {rdflib.term.URIRef('http://www.w3.org/ns/shacl#datatype'): set(),\n",
       "  rdflib.term.URIRef('http://www.w3.org/ns/shacl#nodeKind'): {'http://www.w3.org/ns/shacl#IRI'},\n",
       "  rdflib.term.URIRef('http://www.w3.org/ns/shacl#class'): {'http://data.europa.eu/a4g/ontology#MonetaryValue'}},\n",
       " (rdflib.term.URIRef('http://data.europa.eu/a4g/ontology#SubmissionStatisticalInformation'),\n",
       "  rdflib.term.URIRef('http://data.europa.eu/a4g/ontology#hasEUReceivedTenders')): {rdflib.term.URIRef('http://www.w3.org/ns/shacl#datatype'): {'http://www.w3.org/2001/XMLSchema#integer'},\n",
       "  rdflib.term.URIRef('http://www.w3.org/ns/shacl#nodeKind'): {'http://www.w3.org/ns/shacl#Literal'},\n",
       "  rdflib.term.URIRef('http://www.w3.org/ns/shacl#class'): set()},\n",
       " (rdflib.term.URIRef('http://data.europa.eu/a4g/ontology#SubmissionStatisticalInformation'),\n",
       "  rdflib.term.URIRef('http://data.europa.eu/a4g/ontology#summarisesInformationForLotAwardOutcome')): {rdflib.term.URIRef('http://www.w3.org/ns/shacl#datatype'): set(),\n",
       "  rdflib.term.URIRef('http://www.w3.org/ns/shacl#nodeKind'): {'http://www.w3.org/ns/shacl#IRI'},\n",
       "  rdflib.term.URIRef('http://www.w3.org/ns/shacl#class'): {'http://data.europa.eu/a4g/ontology#LotAwardOutcome'}},\n",
       " (rdflib.term.URIRef('http://data.europa.eu/a4g/ontology#SubmissionStatisticalInformation'),\n",
       "  rdflib.term.URIRef('http://data.europa.eu/a4g/ontology#hasElectronicTenders')): {rdflib.term.URIRef('http://www.w3.org/ns/shacl#datatype'): {'http://www.w3.org/2001/XMLSchema#integer'},\n",
       "  rdflib.term.URIRef('http://www.w3.org/ns/shacl#nodeKind'): {'http://www.w3.org/ns/shacl#Literal'},\n",
       "  rdflib.term.URIRef('http://www.w3.org/ns/shacl#class'): set()},\n",
       " (rdflib.term.URIRef('http://data.europa.eu/a4g/ontology#SubmissionStatisticalInformation'),\n",
       "  rdflib.term.URIRef('http://data.europa.eu/a4g/ontology#hasReceivedSMETenders')): {rdflib.term.URIRef('http://www.w3.org/ns/shacl#datatype'): {'http://www.w3.org/2001/XMLSchema#integer'},\n",
       "  rdflib.term.URIRef('http://www.w3.org/ns/shacl#nodeKind'): {'http://www.w3.org/ns/shacl#Literal'},\n",
       "  rdflib.term.URIRef('http://www.w3.org/ns/shacl#class'): set()},\n",
       " (rdflib.term.URIRef('http://data.europa.eu/a4g/ontology#SubmissionStatisticalInformation'),\n",
       "  rdflib.term.URIRef('http://data.europa.eu/a4g/ontology#hasLowestReceivedTenderValue')): {rdflib.term.URIRef('http://www.w3.org/ns/shacl#datatype'): set(),\n",
       "  rdflib.term.URIRef('http://www.w3.org/ns/shacl#nodeKind'): {'http://www.w3.org/ns/shacl#IRI'},\n",
       "  rdflib.term.URIRef('http://www.w3.org/ns/shacl#class'): {'http://data.europa.eu/a4g/ontology#MonetaryValue'}},\n",
       " (rdflib.term.URIRef('http://data.europa.eu/a4g/ontology#AwardCriterion'),\n",
       "  rdflib.term.URIRef('http://data.europa.eu/a4g/ontology#hasAwardCriterionType')): {rdflib.term.URIRef('http://www.w3.org/ns/shacl#datatype'): set(),\n",
       "  rdflib.term.URIRef('http://www.w3.org/ns/shacl#nodeKind'): {'http://www.w3.org/ns/shacl#IRI'},\n",
       "  rdflib.term.URIRef('http://www.w3.org/ns/shacl#class'): set()},\n",
       " (rdflib.term.URIRef('http://data.europa.eu/a4g/ontology#AwardCriterion'),\n",
       "  rdflib.term.URIRef('http://data.europa.eu/m8g/weight')): {rdflib.term.URIRef('http://www.w3.org/ns/shacl#datatype'): set(),\n",
       "  rdflib.term.URIRef('http://www.w3.org/ns/shacl#nodeKind'): {'http://www.w3.org/ns/shacl#Literal'},\n",
       "  rdflib.term.URIRef('http://www.w3.org/ns/shacl#class'): set()},\n",
       " (rdflib.term.URIRef('http://data.europa.eu/a4g/ontology#AwardCriterion'),\n",
       "  rdflib.term.URIRef('http://data.europa.eu/m8g/name')): {rdflib.term.URIRef('http://www.w3.org/ns/shacl#datatype'): set(),\n",
       "  rdflib.term.URIRef('http://www.w3.org/ns/shacl#nodeKind'): {'http://www.w3.org/ns/shacl#Literal'},\n",
       "  rdflib.term.URIRef('http://www.w3.org/ns/shacl#class'): set()},\n",
       " (rdflib.term.URIRef('http://data.europa.eu/a4g/ontology#Business'),\n",
       "  rdflib.term.URIRef('http://data.europa.eu/a4g/ontology#hasBusinessSize')): {rdflib.term.URIRef('http://www.w3.org/ns/shacl#datatype'): set(),\n",
       "  rdflib.term.URIRef('http://www.w3.org/ns/shacl#nodeKind'): {'http://www.w3.org/ns/shacl#IRI'},\n",
       "  rdflib.term.URIRef('http://www.w3.org/ns/shacl#class'): set()},\n",
       " (rdflib.term.URIRef('http://data.europa.eu/a4g/ontology#Buyer'),\n",
       "  rdflib.term.URIRef('http://data.europa.eu/a4g/ontology#playedBy')): {rdflib.term.URIRef('http://www.w3.org/ns/shacl#datatype'): set(),\n",
       "  rdflib.term.URIRef('http://www.w3.org/ns/shacl#nodeKind'): {'http://www.w3.org/ns/shacl#IRI'},\n",
       "  rdflib.term.URIRef('http://www.w3.org/ns/shacl#class'): {'http://www.w3.org/ns/org#Organization'}},\n",
       " (rdflib.term.URIRef('http://data.europa.eu/a4g/ontology#Buyer'),\n",
       "  rdflib.term.URIRef('http://data.europa.eu/a4g/ontology#hasBuyerProfile')): {rdflib.term.URIRef('http://www.w3.org/ns/shacl#datatype'): set(),\n",
       "  rdflib.term.URIRef('http://www.w3.org/ns/shacl#nodeKind'): {'http://www.w3.org/ns/shacl#Literal'},\n",
       "  rdflib.term.URIRef('http://www.w3.org/ns/shacl#class'): set()},\n",
       " (rdflib.term.URIRef('http://data.europa.eu/a4g/ontology#Buyer'),\n",
       "  rdflib.term.URIRef('http://data.europa.eu/a4g/ontology#hasContactPointInRole')): {rdflib.term.URIRef('http://www.w3.org/ns/shacl#datatype'): set(),\n",
       "  rdflib.term.URIRef('http://www.w3.org/ns/shacl#nodeKind'): {'http://www.w3.org/ns/shacl#IRI'},\n",
       "  rdflib.term.URIRef('http://www.w3.org/ns/shacl#class'): {'http://data.europa.eu/m8g/ContactPoint'}},\n",
       " (rdflib.term.URIRef('http://data.europa.eu/a4g/ontology#Contract'),\n",
       "  rdflib.term.URIRef('http://data.europa.eu/a4g/ontology#resultsFromLotAwardOutcome')): {rdflib.term.URIRef('http://www.w3.org/ns/shacl#datatype'): set(),\n",
       "  rdflib.term.URIRef('http://www.w3.org/ns/shacl#nodeKind'): {'http://www.w3.org/ns/shacl#IRI'},\n",
       "  rdflib.term.URIRef('http://www.w3.org/ns/shacl#class'): {'http://data.europa.eu/a4g/ontology#LotAwardOutcome'}},\n",
       " (rdflib.term.URIRef('http://data.europa.eu/a4g/ontology#Contract'),\n",
       "  rdflib.term.URIRef('http://data.europa.eu/a4g/ontology#hasTitle')): {rdflib.term.URIRef('http://www.w3.org/ns/shacl#datatype'): set(),\n",
       "  rdflib.term.URIRef('http://www.w3.org/ns/shacl#nodeKind'): {'http://www.w3.org/ns/shacl#Literal'},\n",
       "  rdflib.term.URIRef('http://www.w3.org/ns/shacl#class'): set()},\n",
       " (rdflib.term.URIRef('http://data.europa.eu/a4g/ontology#Contract'),\n",
       "  rdflib.term.URIRef('http://data.europa.eu/a4g/ontology#hasContractConclusionDate')): {rdflib.term.URIRef('http://www.w3.org/ns/shacl#datatype'): {'http://www.w3.org/2001/XMLSchema#date'},\n",
       "  rdflib.term.URIRef('http://www.w3.org/ns/shacl#nodeKind'): {'http://www.w3.org/ns/shacl#Literal'},\n",
       "  rdflib.term.URIRef('http://www.w3.org/ns/shacl#class'): set()},\n",
       " (rdflib.term.URIRef('http://data.europa.eu/a4g/ontology#Contract'),\n",
       "  rdflib.term.URIRef('http://data.europa.eu/a4g/ontology#hasID')): {rdflib.term.URIRef('http://www.w3.org/ns/shacl#datatype'): set(),\n",
       "  rdflib.term.URIRef('http://www.w3.org/ns/shacl#nodeKind'): {'http://www.w3.org/ns/shacl#IRI'},\n",
       "  rdflib.term.URIRef('http://www.w3.org/ns/shacl#class'): {'http://data.europa.eu/a4g/ontology#Identifier'}},\n",
       " (rdflib.term.URIRef('http://data.europa.eu/a4g/ontology#Contract'),\n",
       "  rdflib.term.URIRef('http://data.europa.eu/a4g/ontology#includesLot')): {rdflib.term.URIRef('http://www.w3.org/ns/shacl#datatype'): set(),\n",
       "  rdflib.term.URIRef('http://www.w3.org/ns/shacl#nodeKind'): {'http://www.w3.org/ns/shacl#IRI'},\n",
       "  rdflib.term.URIRef('http://www.w3.org/ns/shacl#class'): {'http://data.europa.eu/a4g/ontology#Lot'}},\n",
       " (rdflib.term.URIRef('http://data.europa.eu/a4g/ontology#DirectAwardTerm'),\n",
       "  rdflib.term.URIRef('http://data.europa.eu/a4g/ontology#refersToPreviousProcedure')): {rdflib.term.URIRef('http://www.w3.org/ns/shacl#datatype'): set(),\n",
       "  rdflib.term.URIRef('http://www.w3.org/ns/shacl#nodeKind'): {'http://www.w3.org/ns/shacl#IRI'},\n",
       "  rdflib.term.URIRef('http://www.w3.org/ns/shacl#class'): {'http://data.europa.eu/a4g/ontology#Procedure'}},\n",
       " (rdflib.term.URIRef('http://data.europa.eu/a4g/ontology#DirectAwardTerm'),\n",
       "  rdflib.term.URIRef('http://data.europa.eu/a4g/ontology#hasDirectAwardJustification')): {rdflib.term.URIRef('http://www.w3.org/ns/shacl#datatype'): set(),\n",
       "  rdflib.term.URIRef('http://www.w3.org/ns/shacl#nodeKind'): {'http://www.w3.org/ns/shacl#IRI'},\n",
       "  rdflib.term.URIRef('http://www.w3.org/ns/shacl#class'): set()},\n",
       " (rdflib.term.URIRef('http://data.europa.eu/a4g/ontology#DirectAwardTerm'),\n",
       "  rdflib.term.URIRef('http://data.europa.eu/a4g/ontology#hasJustification')): {rdflib.term.URIRef('http://www.w3.org/ns/shacl#datatype'): set(),\n",
       "  rdflib.term.URIRef('http://www.w3.org/ns/shacl#nodeKind'): {'http://www.w3.org/ns/shacl#Literal'},\n",
       "  rdflib.term.URIRef('http://www.w3.org/ns/shacl#class'): set()},\n",
       " (rdflib.term.URIRef('http://data.europa.eu/a4g/ontology#Fund'),\n",
       "  rdflib.term.URIRef('http://data.europa.eu/a4g/ontology#hasDescription')): {rdflib.term.URIRef('http://www.w3.org/ns/shacl#datatype'): set(),\n",
       "  rdflib.term.URIRef('http://www.w3.org/ns/shacl#nodeKind'): {'http://www.w3.org/ns/shacl#Literal'},\n",
       "  rdflib.term.URIRef('http://www.w3.org/ns/shacl#class'): set()},\n",
       " (rdflib.term.URIRef('http://data.europa.eu/a4g/ontology#Mediator'),\n",
       "  rdflib.term.URIRef('http://data.europa.eu/a4g/ontology#playedBy')): {rdflib.term.URIRef('http://www.w3.org/ns/shacl#datatype'): set(),\n",
       "  rdflib.term.URIRef('http://www.w3.org/ns/shacl#nodeKind'): {'http://www.w3.org/ns/shacl#IRI'},\n",
       "  rdflib.term.URIRef('http://www.w3.org/ns/shacl#class'): {'http://www.w3.org/ns/org#Organization'}},\n",
       " (rdflib.term.URIRef('http://data.europa.eu/a4g/ontology#Notice'),\n",
       "  rdflib.term.URIRef('http://data.europa.eu/a4g/ontology#hasLegalBasis')): {rdflib.term.URIRef('http://www.w3.org/ns/shacl#datatype'): set(),\n",
       "  rdflib.term.URIRef('http://www.w3.org/ns/shacl#nodeKind'): {'http://www.w3.org/ns/shacl#IRI'},\n",
       "  rdflib.term.URIRef('http://www.w3.org/ns/shacl#class'): set()},\n",
       " (rdflib.term.URIRef('http://data.europa.eu/a4g/ontology#Notice'),\n",
       "  rdflib.term.URIRef('http://data.europa.eu/a4g/ontology#announcesNoticeAwardInformation')): {rdflib.term.URIRef('http://www.w3.org/ns/shacl#datatype'): set(),\n",
       "  rdflib.term.URIRef('http://www.w3.org/ns/shacl#nodeKind'): {'http://www.w3.org/ns/shacl#IRI'},\n",
       "  rdflib.term.URIRef('http://www.w3.org/ns/shacl#class'): {'http://data.europa.eu/a4g/ontology#NoticeAwardInformation'}},\n",
       " (rdflib.term.URIRef('http://data.europa.eu/a4g/ontology#Notice'),\n",
       "  rdflib.term.URIRef('http://data.europa.eu/a4g/ontology#refersToPrevious')): {rdflib.term.URIRef('http://www.w3.org/ns/shacl#datatype'): set(),\n",
       "  rdflib.term.URIRef('http://www.w3.org/ns/shacl#nodeKind'): {'http://www.w3.org/ns/shacl#IRI'},\n",
       "  rdflib.term.URIRef('http://www.w3.org/ns/shacl#class'): {'http://data.europa.eu/a4g/ontology#Notice'}},\n",
       " (rdflib.term.URIRef('http://data.europa.eu/a4g/ontology#Notice'),\n",
       "  rdflib.term.URIRef('http://data.europa.eu/a4g/ontology#hasDispatchDate')): {rdflib.term.URIRef('http://www.w3.org/ns/shacl#datatype'): {'http://www.w3.org/2001/XMLSchema#date'},\n",
       "  rdflib.term.URIRef('http://www.w3.org/ns/shacl#nodeKind'): {'http://www.w3.org/ns/shacl#Literal'},\n",
       "  rdflib.term.URIRef('http://www.w3.org/ns/shacl#class'): set()},\n",
       " (rdflib.term.URIRef('http://data.europa.eu/a4g/ontology#Notice'),\n",
       "  rdflib.term.URIRef('http://data.europa.eu/a4g/ontology#announcesRole')): {rdflib.term.URIRef('http://www.w3.org/ns/shacl#datatype'): set(),\n",
       "  rdflib.term.URIRef('http://www.w3.org/ns/shacl#nodeKind'): {'http://www.w3.org/ns/shacl#IRI'},\n",
       "  rdflib.term.URIRef('http://www.w3.org/ns/shacl#class'): {'http://data.europa.eu/a4g/ontology#Buyer',\n",
       "   'http://data.europa.eu/a4g/ontology#Mediator',\n",
       "   'http://data.europa.eu/a4g/ontology#ReviewProcedureInformationProvider',\n",
       "   'http://data.europa.eu/a4g/ontology#Reviewer'}},\n",
       " (rdflib.term.URIRef('http://data.europa.eu/a4g/ontology#Notice'),\n",
       "  rdflib.term.URIRef('http://data.europa.eu/a4g/ontology#hasPublicationDate')): {rdflib.term.URIRef('http://www.w3.org/ns/shacl#datatype'): {'http://www.w3.org/2001/XMLSchema#string'},\n",
       "  rdflib.term.URIRef('http://www.w3.org/ns/shacl#nodeKind'): {'http://www.w3.org/ns/shacl#Literal'},\n",
       "  rdflib.term.URIRef('http://www.w3.org/ns/shacl#class'): set()},\n",
       " (rdflib.term.URIRef('http://data.europa.eu/a4g/ontology#Notice'),\n",
       "  rdflib.term.URIRef('http://data.europa.eu/a4g/ontology#hasID')): {rdflib.term.URIRef('http://www.w3.org/ns/shacl#datatype'): set(),\n",
       "  rdflib.term.URIRef('http://www.w3.org/ns/shacl#nodeKind'): {'http://www.w3.org/ns/shacl#IRI'},\n",
       "  rdflib.term.URIRef('http://www.w3.org/ns/shacl#class'): {'http://data.europa.eu/a4g/ontology#Identifier'}},\n",
       " (rdflib.term.URIRef('http://data.europa.eu/a4g/ontology#Notice'),\n",
       "  rdflib.term.URIRef('http://data.europa.eu/a4g/ontology#refersToProcedure')): {rdflib.term.URIRef('http://www.w3.org/ns/shacl#datatype'): set(),\n",
       "  rdflib.term.URIRef('http://www.w3.org/ns/shacl#nodeKind'): {'http://www.w3.org/ns/shacl#IRI'},\n",
       "  rdflib.term.URIRef('http://www.w3.org/ns/shacl#class'): {'http://data.europa.eu/a4g/ontology#Procedure'}},\n",
       " (rdflib.term.URIRef('http://data.europa.eu/a4g/ontology#Notice'),\n",
       "  rdflib.term.URIRef('http://data.europa.eu/a4g/ontology#refersToLot')): {rdflib.term.URIRef('http://www.w3.org/ns/shacl#datatype'): set(),\n",
       "  rdflib.term.URIRef('http://www.w3.org/ns/shacl#nodeKind'): {'http://www.w3.org/ns/shacl#IRI'},\n",
       "  rdflib.term.URIRef('http://www.w3.org/ns/shacl#class'): {'http://data.europa.eu/a4g/ontology#Lot'}},\n",
       " (rdflib.term.URIRef('http://data.europa.eu/a4g/ontology#Notice'),\n",
       "  rdflib.term.URIRef('http://data.europa.eu/a4g/ontology#announcesContract')): {rdflib.term.URIRef('http://www.w3.org/ns/shacl#datatype'): set(),\n",
       "  rdflib.term.URIRef('http://www.w3.org/ns/shacl#nodeKind'): {'http://www.w3.org/ns/shacl#IRI'},\n",
       "  rdflib.term.URIRef('http://www.w3.org/ns/shacl#class'): {'http://data.europa.eu/a4g/ontology#Contract'}},\n",
       " (rdflib.term.URIRef('http://data.europa.eu/a4g/ontology#ProcedureTerm'),\n",
       "  rdflib.term.URIRef('http://data.europa.eu/a4g/ontology#hasCrossBorderLaw')): {rdflib.term.URIRef('http://www.w3.org/ns/shacl#datatype'): set(),\n",
       "  rdflib.term.URIRef('http://www.w3.org/ns/shacl#nodeKind'): {'http://www.w3.org/ns/shacl#Literal'},\n",
       "  rdflib.term.URIRef('http://www.w3.org/ns/shacl#class'): set()},\n",
       " (rdflib.term.URIRef('http://data.europa.eu/a4g/ontology#ProcedureTerm'),\n",
       "  rdflib.term.URIRef('http://data.europa.eu/a4g/ontology#isAwardedByCPB')): {rdflib.term.URIRef('http://www.w3.org/ns/shacl#datatype'): {'http://www.w3.org/2001/XMLSchema#boolean'},\n",
       "  rdflib.term.URIRef('http://www.w3.org/ns/shacl#nodeKind'): {'http://www.w3.org/ns/shacl#Literal'},\n",
       "  rdflib.term.URIRef('http://www.w3.org/ns/shacl#class'): set()},\n",
       " (rdflib.term.URIRef('http://data.europa.eu/a4g/ontology#ReviewProcedureInformationProvider'),\n",
       "  rdflib.term.URIRef('http://data.europa.eu/a4g/ontology#playedBy')): {rdflib.term.URIRef('http://www.w3.org/ns/shacl#datatype'): set(),\n",
       "  rdflib.term.URIRef('http://www.w3.org/ns/shacl#nodeKind'): {'http://www.w3.org/ns/shacl#IRI'},\n",
       "  rdflib.term.URIRef('http://www.w3.org/ns/shacl#class'): {'http://www.w3.org/ns/org#Organization'}},\n",
       " (rdflib.term.URIRef('http://data.europa.eu/a4g/ontology#ReviewTerm'),\n",
       "  rdflib.term.URIRef('http://data.europa.eu/a4g/ontology#hasReviewDeadlineInformation')): {rdflib.term.URIRef('http://www.w3.org/ns/shacl#datatype'): set(),\n",
       "  rdflib.term.URIRef('http://www.w3.org/ns/shacl#nodeKind'): {'http://www.w3.org/ns/shacl#Literal'},\n",
       "  rdflib.term.URIRef('http://www.w3.org/ns/shacl#class'): set()},\n",
       " (rdflib.term.URIRef('http://data.europa.eu/a4g/ontology#Reviewer'),\n",
       "  rdflib.term.URIRef('http://data.europa.eu/a4g/ontology#playedBy')): {rdflib.term.URIRef('http://www.w3.org/ns/shacl#datatype'): set(),\n",
       "  rdflib.term.URIRef('http://www.w3.org/ns/shacl#nodeKind'): {'http://www.w3.org/ns/shacl#IRI'},\n",
       "  rdflib.term.URIRef('http://www.w3.org/ns/shacl#class'): {'http://www.w3.org/ns/org#Organization'}},\n",
       " (rdflib.term.URIRef('http://data.europa.eu/a4g/ontology#SubcontractingEstimate'),\n",
       "  rdflib.term.URIRef('http://data.europa.eu/a4g/ontology#hasEstimatedPercentage')): {rdflib.term.URIRef('http://www.w3.org/ns/shacl#datatype'): {'http://www.w3.org/2001/XMLSchema#decimal'},\n",
       "  rdflib.term.URIRef('http://www.w3.org/ns/shacl#nodeKind'): {'http://www.w3.org/ns/shacl#Literal'},\n",
       "  rdflib.term.URIRef('http://www.w3.org/ns/shacl#class'): set()},\n",
       " (rdflib.term.URIRef('http://data.europa.eu/a4g/ontology#SubcontractingEstimate'),\n",
       "  rdflib.term.URIRef('http://data.europa.eu/a4g/ontology#hasDescription')): {rdflib.term.URIRef('http://www.w3.org/ns/shacl#datatype'): set(),\n",
       "  rdflib.term.URIRef('http://www.w3.org/ns/shacl#nodeKind'): {'http://www.w3.org/ns/shacl#Literal'},\n",
       "  rdflib.term.URIRef('http://www.w3.org/ns/shacl#class'): set()},\n",
       " (rdflib.term.URIRef('http://data.europa.eu/a4g/ontology#SubcontractingEstimate'),\n",
       "  rdflib.term.URIRef('http://data.europa.eu/a4g/ontology#hasSubcontractingEstimatedValue')): {rdflib.term.URIRef('http://www.w3.org/ns/shacl#datatype'): set(),\n",
       "  rdflib.term.URIRef('http://www.w3.org/ns/shacl#nodeKind'): {'http://www.w3.org/ns/shacl#IRI'},\n",
       "  rdflib.term.URIRef('http://www.w3.org/ns/shacl#class'): {'http://data.europa.eu/a4g/ontology#MonetaryValue'}},\n",
       " (rdflib.term.URIRef('http://data.europa.eu/a4g/ontology#Tender'),\n",
       "  rdflib.term.URIRef('http://data.europa.eu/a4g/ontology#foreseesSubcontracting')): {rdflib.term.URIRef('http://www.w3.org/ns/shacl#datatype'): set(),\n",
       "  rdflib.term.URIRef('http://www.w3.org/ns/shacl#nodeKind'): {'http://www.w3.org/ns/shacl#IRI'},\n",
       "  rdflib.term.URIRef('http://www.w3.org/ns/shacl#class'): {'http://data.europa.eu/a4g/ontology#SubcontractingEstimate'}},\n",
       " (rdflib.term.URIRef('http://data.europa.eu/a4g/ontology#TenderAwardOutcome'),\n",
       "  rdflib.term.URIRef('http://data.europa.eu/a4g/ontology#indicatesAwardOfLotToWinner')): {rdflib.term.URIRef('http://www.w3.org/ns/shacl#datatype'): set(),\n",
       "  rdflib.term.URIRef('http://www.w3.org/ns/shacl#nodeKind'): {'http://www.w3.org/ns/shacl#IRI'},\n",
       "  rdflib.term.URIRef('http://www.w3.org/ns/shacl#class'): {'http://data.europa.eu/a4g/ontology#Winner'}},\n",
       " (rdflib.term.URIRef('http://data.europa.eu/a4g/ontology#TenderAwardOutcome'),\n",
       "  rdflib.term.URIRef('http://data.europa.eu/a4g/ontology#describesTender')): {rdflib.term.URIRef('http://www.w3.org/ns/shacl#datatype'): set(),\n",
       "  rdflib.term.URIRef('http://www.w3.org/ns/shacl#nodeKind'): {'http://www.w3.org/ns/shacl#IRI'},\n",
       "  rdflib.term.URIRef('http://www.w3.org/ns/shacl#class'): {'http://data.europa.eu/a4g/ontology#Tender'}},\n",
       " (rdflib.term.URIRef('http://data.europa.eu/a4g/ontology#Winner'),\n",
       "  rdflib.term.URIRef('http://data.europa.eu/a4g/ontology#playedBy')): {rdflib.term.URIRef('http://www.w3.org/ns/shacl#datatype'): set(),\n",
       "  rdflib.term.URIRef('http://www.w3.org/ns/shacl#nodeKind'): {'http://www.w3.org/ns/shacl#IRI'},\n",
       "  rdflib.term.URIRef('http://www.w3.org/ns/shacl#class'): {'http://data.europa.eu/a4g/ontology#Business',\n",
       "   'http://www.w3.org/ns/org#Organization'}},\n",
       " (rdflib.term.URIRef('http://purl.org/dc/terms/Location'),\n",
       "  rdflib.term.URIRef('http://data.europa.eu/a4g/ontology#hasNutsCode')): {rdflib.term.URIRef('http://www.w3.org/ns/shacl#datatype'): set(),\n",
       "  rdflib.term.URIRef('http://www.w3.org/ns/shacl#nodeKind'): {'http://www.w3.org/ns/shacl#IRI'},\n",
       "  rdflib.term.URIRef('http://www.w3.org/ns/shacl#class'): set()},\n",
       " (rdflib.term.URIRef('http://purl.org/dc/terms/Location'),\n",
       "  rdflib.term.URIRef('http://www.w3.org/ns/locn#address')): {rdflib.term.URIRef('http://www.w3.org/ns/shacl#datatype'): set(),\n",
       "  rdflib.term.URIRef('http://www.w3.org/ns/shacl#nodeKind'): {'http://www.w3.org/ns/shacl#IRI'},\n",
       "  rdflib.term.URIRef('http://www.w3.org/ns/shacl#class'): {'http://www.w3.org/ns/locn#Address'}},\n",
       " (rdflib.term.URIRef('http://data.europa.eu/a4g/ontology#ContractTerm'),\n",
       "  rdflib.term.URIRef('http://data.europa.eu/a4g/ontology#hasOptions')): {rdflib.term.URIRef('http://www.w3.org/ns/shacl#datatype'): {'http://www.w3.org/2001/XMLSchema#boolean'},\n",
       "  rdflib.term.URIRef('http://www.w3.org/ns/shacl#nodeKind'): {'http://www.w3.org/ns/shacl#Literal'},\n",
       "  rdflib.term.URIRef('http://www.w3.org/ns/shacl#class'): set()},\n",
       " (rdflib.term.URIRef('http://data.europa.eu/a4g/ontology#ContractTerm'),\n",
       "  rdflib.term.URIRef('http://data.europa.eu/a4g/ontology#definesSpecificPlaceOfPerformance')): {rdflib.term.URIRef('http://www.w3.org/ns/shacl#datatype'): set(),\n",
       "  rdflib.term.URIRef('http://www.w3.org/ns/shacl#nodeKind'): {'http://www.w3.org/ns/shacl#IRI'},\n",
       "  rdflib.term.URIRef('http://www.w3.org/ns/shacl#class'): {'http://purl.org/dc/terms/Location'}},\n",
       " (rdflib.term.URIRef('http://data.europa.eu/a4g/ontology#ContractTerm'),\n",
       "  rdflib.term.URIRef('http://data.europa.eu/a4g/ontology#hasContractNatureType')): {rdflib.term.URIRef('http://www.w3.org/ns/shacl#datatype'): set(),\n",
       "  rdflib.term.URIRef('http://www.w3.org/ns/shacl#nodeKind'): {'http://www.w3.org/ns/shacl#IRI'},\n",
       "  rdflib.term.URIRef('http://www.w3.org/ns/shacl#class'): set()},\n",
       " (rdflib.term.URIRef('http://data.europa.eu/a4g/ontology#ContractTerm'),\n",
       "  rdflib.term.URIRef('http://data.europa.eu/a4g/ontology#hasOptionsDescription')): {rdflib.term.URIRef('http://www.w3.org/ns/shacl#datatype'): set(),\n",
       "  rdflib.term.URIRef('http://www.w3.org/ns/shacl#nodeKind'): {'http://www.w3.org/ns/shacl#Literal'},\n",
       "  rdflib.term.URIRef('http://www.w3.org/ns/shacl#class'): set()},\n",
       " (rdflib.term.URIRef('http://data.europa.eu/a4g/ontology#LotAwardOutcome'),\n",
       "  rdflib.term.URIRef('http://data.europa.eu/a4g/ontology#hasAwardedValue')): {rdflib.term.URIRef('http://www.w3.org/ns/shacl#datatype'): set(),\n",
       "  rdflib.term.URIRef('http://www.w3.org/ns/shacl#nodeKind'): {'http://www.w3.org/ns/shacl#IRI'},\n",
       "  rdflib.term.URIRef('http://www.w3.org/ns/shacl#class'): {'http://data.europa.eu/a4g/ontology#MonetaryValue'}},\n",
       " (rdflib.term.URIRef('http://data.europa.eu/a4g/ontology#LotAwardOutcome'),\n",
       "  rdflib.term.URIRef('http://data.europa.eu/a4g/ontology#hasNonAwardedContractTitle')): {rdflib.term.URIRef('http://www.w3.org/ns/shacl#datatype'): set(),\n",
       "  rdflib.term.URIRef('http://www.w3.org/ns/shacl#nodeKind'): {'http://www.w3.org/ns/shacl#Literal'},\n",
       "  rdflib.term.URIRef('http://www.w3.org/ns/shacl#class'): set()},\n",
       " (rdflib.term.URIRef('http://data.europa.eu/a4g/ontology#LotAwardOutcome'),\n",
       "  rdflib.term.URIRef('http://data.europa.eu/a4g/ontology#hasNonAwardedContractNumber')): {rdflib.term.URIRef('http://www.w3.org/ns/shacl#datatype'): {'http://www.w3.org/2001/XMLSchema#string'},\n",
       "  rdflib.term.URIRef('http://www.w3.org/ns/shacl#nodeKind'): {'http://www.w3.org/ns/shacl#Literal'},\n",
       "  rdflib.term.URIRef('http://www.w3.org/ns/shacl#class'): set()},\n",
       " (rdflib.term.URIRef('http://data.europa.eu/a4g/ontology#LotAwardOutcome'),\n",
       "  rdflib.term.URIRef('http://data.europa.eu/a4g/ontology#hasNonAwardJustification')): {rdflib.term.URIRef('http://www.w3.org/ns/shacl#datatype'): set(),\n",
       "  rdflib.term.URIRef('http://www.w3.org/ns/shacl#nodeKind'): {'http://www.w3.org/ns/shacl#IRI'},\n",
       "  rdflib.term.URIRef('http://www.w3.org/ns/shacl#class'): set()},\n",
       " (rdflib.term.URIRef('http://data.europa.eu/a4g/ontology#LotAwardOutcome'),\n",
       "  rdflib.term.URIRef('http://data.europa.eu/a4g/ontology#comprisesTenderAwardOutcome')): {rdflib.term.URIRef('http://www.w3.org/ns/shacl#datatype'): set(),\n",
       "  rdflib.term.URIRef('http://www.w3.org/ns/shacl#nodeKind'): {'http://www.w3.org/ns/shacl#IRI'},\n",
       "  rdflib.term.URIRef('http://www.w3.org/ns/shacl#class'): {'http://data.europa.eu/a4g/ontology#TenderAwardOutcome'}},\n",
       " (rdflib.term.URIRef('http://data.europa.eu/a4g/ontology#LotAwardOutcome'),\n",
       "  rdflib.term.URIRef('http://data.europa.eu/a4g/ontology#describesLot')): {rdflib.term.URIRef('http://www.w3.org/ns/shacl#datatype'): set(),\n",
       "  rdflib.term.URIRef('http://www.w3.org/ns/shacl#nodeKind'): {'http://www.w3.org/ns/shacl#IRI'},\n",
       "  rdflib.term.URIRef('http://www.w3.org/ns/shacl#class'): {'http://data.europa.eu/a4g/ontology#Lot'}},\n",
       " (rdflib.term.URIRef('http://data.europa.eu/a4g/ontology#LotAwardOutcome'),\n",
       "  rdflib.term.URIRef('http://data.europa.eu/a4g/ontology#hasAwardStatus')): {rdflib.term.URIRef('http://www.w3.org/ns/shacl#datatype'): set(),\n",
       "  rdflib.term.URIRef('http://www.w3.org/ns/shacl#nodeKind'): {'http://www.w3.org/ns/shacl#IRI'},\n",
       "  rdflib.term.URIRef('http://www.w3.org/ns/shacl#class'): set()},\n",
       " (rdflib.term.URIRef('http://data.europa.eu/a4g/ontology#NoticeAwardInformation'),\n",
       "  rdflib.term.URIRef('http://data.europa.eu/a4g/ontology#hasTotalAwardedValue')): {rdflib.term.URIRef('http://www.w3.org/ns/shacl#datatype'): set(),\n",
       "  rdflib.term.URIRef('http://www.w3.org/ns/shacl#nodeKind'): {'http://www.w3.org/ns/shacl#IRI'},\n",
       "  rdflib.term.URIRef('http://www.w3.org/ns/shacl#class'): {'http://data.europa.eu/a4g/ontology#MonetaryValue'}},\n",
       " (rdflib.term.URIRef('http://data.europa.eu/a4g/ontology#NoticeAwardInformation'),\n",
       "  rdflib.term.URIRef('http://data.europa.eu/a4g/ontology#hasProcurementHighestReceivedTenderValue')): {rdflib.term.URIRef('http://www.w3.org/ns/shacl#datatype'): set(),\n",
       "  rdflib.term.URIRef('http://www.w3.org/ns/shacl#nodeKind'): {'http://www.w3.org/ns/shacl#IRI'},\n",
       "  rdflib.term.URIRef('http://www.w3.org/ns/shacl#class'): {'http://data.europa.eu/a4g/ontology#MonetaryValue'}},\n",
       " (rdflib.term.URIRef('http://data.europa.eu/a4g/ontology#NoticeAwardInformation'),\n",
       "  rdflib.term.URIRef('http://data.europa.eu/a4g/ontology#hasProcurementLowestReceivedTenderValue')): {rdflib.term.URIRef('http://www.w3.org/ns/shacl#datatype'): set(),\n",
       "  rdflib.term.URIRef('http://www.w3.org/ns/shacl#nodeKind'): {'http://www.w3.org/ns/shacl#IRI'},\n",
       "  rdflib.term.URIRef('http://www.w3.org/ns/shacl#class'): {'http://data.europa.eu/a4g/ontology#MonetaryValue'}},\n",
       " (rdflib.term.URIRef('http://data.europa.eu/a4g/ontology#Purpose'),\n",
       "  rdflib.term.URIRef('http://data.europa.eu/a4g/ontology#hasMainClassification')): {rdflib.term.URIRef('http://www.w3.org/ns/shacl#datatype'): set(),\n",
       "  rdflib.term.URIRef('http://www.w3.org/ns/shacl#nodeKind'): {'http://www.w3.org/ns/shacl#IRI'},\n",
       "  rdflib.term.URIRef('http://www.w3.org/ns/shacl#class'): set()},\n",
       " (rdflib.term.URIRef('http://data.europa.eu/a4g/ontology#Purpose'),\n",
       "  rdflib.term.URIRef('http://data.europa.eu/a4g/ontology#hasAdditionalClassification')): {rdflib.term.URIRef('http://www.w3.org/ns/shacl#datatype'): set(),\n",
       "  rdflib.term.URIRef('http://www.w3.org/ns/shacl#nodeKind'): {'http://www.w3.org/ns/shacl#IRI'},\n",
       "  rdflib.term.URIRef('http://www.w3.org/ns/shacl#class'): set()},\n",
       " (rdflib.term.URIRef('http://data.europa.eu/m8g/ContactPoint'),\n",
       "  rdflib.term.URIRef('http://data.europa.eu/m8g/telephone')): {rdflib.term.URIRef('http://www.w3.org/ns/shacl#datatype'): set(),\n",
       "  rdflib.term.URIRef('http://www.w3.org/ns/shacl#nodeKind'): {'http://www.w3.org/ns/shacl#Literal'},\n",
       "  rdflib.term.URIRef('http://www.w3.org/ns/shacl#class'): set()},\n",
       " (rdflib.term.URIRef('http://data.europa.eu/m8g/ContactPoint'),\n",
       "  rdflib.term.URIRef('http://data.europa.eu/a4g/ontology#hasFax')): {rdflib.term.URIRef('http://www.w3.org/ns/shacl#datatype'): set(),\n",
       "  rdflib.term.URIRef('http://www.w3.org/ns/shacl#nodeKind'): {'http://www.w3.org/ns/shacl#Literal'},\n",
       "  rdflib.term.URIRef('http://www.w3.org/ns/shacl#class'): set()},\n",
       " (rdflib.term.URIRef('http://data.europa.eu/m8g/ContactPoint'),\n",
       "  rdflib.term.URIRef('http://data.europa.eu/m8g/email')): {rdflib.term.URIRef('http://www.w3.org/ns/shacl#datatype'): set(),\n",
       "  rdflib.term.URIRef('http://www.w3.org/ns/shacl#nodeKind'): {'http://www.w3.org/ns/shacl#Literal'},\n",
       "  rdflib.term.URIRef('http://www.w3.org/ns/shacl#class'): set()},\n",
       " (rdflib.term.URIRef('http://data.europa.eu/m8g/ContactPoint'),\n",
       "  rdflib.term.URIRef('http://data.europa.eu/a4g/ontology#hasContactName')): {rdflib.term.URIRef('http://www.w3.org/ns/shacl#datatype'): set(),\n",
       "  rdflib.term.URIRef('http://www.w3.org/ns/shacl#nodeKind'): {'http://www.w3.org/ns/shacl#Literal'},\n",
       "  rdflib.term.URIRef('http://www.w3.org/ns/shacl#class'): set()},\n",
       " (rdflib.term.URIRef('http://data.europa.eu/m8g/ContactPoint'),\n",
       "  rdflib.term.URIRef('http://data.europa.eu/a4g/ontology#hasInternetAddress')): {rdflib.term.URIRef('http://www.w3.org/ns/shacl#datatype'): set(),\n",
       "  rdflib.term.URIRef('http://www.w3.org/ns/shacl#nodeKind'): {'http://www.w3.org/ns/shacl#Literal'},\n",
       "  rdflib.term.URIRef('http://www.w3.org/ns/shacl#class'): set()},\n",
       " (rdflib.term.URIRef('http://www.w3.org/ns/locn#Address'),\n",
       "  rdflib.term.URIRef('http://data.europa.eu/a4g/ontology#hasNutsCode')): {rdflib.term.URIRef('http://www.w3.org/ns/shacl#datatype'): set(),\n",
       "  rdflib.term.URIRef('http://www.w3.org/ns/shacl#nodeKind'): {'http://www.w3.org/ns/shacl#IRI'},\n",
       "  rdflib.term.URIRef('http://www.w3.org/ns/shacl#class'): set()},\n",
       " (rdflib.term.URIRef('http://www.w3.org/ns/locn#Address'),\n",
       "  rdflib.term.URIRef('http://www.w3.org/ns/locn#postName')): {rdflib.term.URIRef('http://www.w3.org/ns/shacl#datatype'): set(),\n",
       "  rdflib.term.URIRef('http://www.w3.org/ns/shacl#nodeKind'): {'http://www.w3.org/ns/shacl#Literal'},\n",
       "  rdflib.term.URIRef('http://www.w3.org/ns/shacl#class'): set()},\n",
       " (rdflib.term.URIRef('http://www.w3.org/ns/locn#Address'),\n",
       "  rdflib.term.URIRef('http://data.europa.eu/a4g/ontology#hasCountryCode')): {rdflib.term.URIRef('http://www.w3.org/ns/shacl#datatype'): set(),\n",
       "  rdflib.term.URIRef('http://www.w3.org/ns/shacl#nodeKind'): {'http://www.w3.org/ns/shacl#IRI'},\n",
       "  rdflib.term.URIRef('http://www.w3.org/ns/shacl#class'): set()},\n",
       " (rdflib.term.URIRef('http://www.w3.org/ns/locn#Address'),\n",
       "  rdflib.term.URIRef('http://www.w3.org/ns/locn#thoroughfare')): {rdflib.term.URIRef('http://www.w3.org/ns/shacl#datatype'): set(),\n",
       "  rdflib.term.URIRef('http://www.w3.org/ns/shacl#nodeKind'): {'http://www.w3.org/ns/shacl#Literal'},\n",
       "  rdflib.term.URIRef('http://www.w3.org/ns/shacl#class'): set()},\n",
       " (rdflib.term.URIRef('http://www.w3.org/ns/locn#Address'),\n",
       "  rdflib.term.URIRef('http://www.w3.org/ns/locn#fullAddress')): {rdflib.term.URIRef('http://www.w3.org/ns/shacl#datatype'): set(),\n",
       "  rdflib.term.URIRef('http://www.w3.org/ns/shacl#nodeKind'): {'http://www.w3.org/ns/shacl#Literal'},\n",
       "  rdflib.term.URIRef('http://www.w3.org/ns/shacl#class'): set()},\n",
       " (rdflib.term.URIRef('http://www.w3.org/ns/locn#Address'),\n",
       "  rdflib.term.URIRef('http://www.w3.org/ns/locn#postCode')): {rdflib.term.URIRef('http://www.w3.org/ns/shacl#datatype'): set(),\n",
       "  rdflib.term.URIRef('http://www.w3.org/ns/shacl#nodeKind'): {'http://www.w3.org/ns/shacl#Literal'},\n",
       "  rdflib.term.URIRef('http://www.w3.org/ns/shacl#class'): set()},\n",
       " (rdflib.term.URIRef('http://data.europa.eu/a4g/ontology#Procedure'),\n",
       "  rdflib.term.URIRef('http://data.europa.eu/a4g/ontology#hasPurpose')): {rdflib.term.URIRef('http://www.w3.org/ns/shacl#datatype'): set(),\n",
       "  rdflib.term.URIRef('http://www.w3.org/ns/shacl#nodeKind'): {'http://www.w3.org/ns/shacl#IRI'},\n",
       "  rdflib.term.URIRef('http://www.w3.org/ns/shacl#class'): {'http://data.europa.eu/a4g/ontology#Purpose'}},\n",
       " (rdflib.term.URIRef('http://data.europa.eu/a4g/ontology#Procedure'),\n",
       "  rdflib.term.URIRef('http://data.europa.eu/a4g/ontology#hasProcedureType')): {rdflib.term.URIRef('http://www.w3.org/ns/shacl#datatype'): set(),\n",
       "  rdflib.term.URIRef('http://www.w3.org/ns/shacl#nodeKind'): {'http://www.w3.org/ns/shacl#IRI'},\n",
       "  rdflib.term.URIRef('http://www.w3.org/ns/shacl#class'): set()},\n",
       " (rdflib.term.URIRef('http://data.europa.eu/a4g/ontology#Procedure'),\n",
       "  rdflib.term.URIRef('http://data.europa.eu/a4g/ontology#foreseesContractSpecificTerm')): {rdflib.term.URIRef('http://www.w3.org/ns/shacl#datatype'): set(),\n",
       "  rdflib.term.URIRef('http://www.w3.org/ns/shacl#nodeKind'): {'http://www.w3.org/ns/shacl#IRI'},\n",
       "  rdflib.term.URIRef('http://www.w3.org/ns/shacl#class'): {'http://data.europa.eu/a4g/ontology#ContractTerm'}},\n",
       " (rdflib.term.URIRef('http://data.europa.eu/a4g/ontology#Procedure'),\n",
       "  rdflib.term.URIRef('http://data.europa.eu/a4g/ontology#usesTechnique')): {rdflib.term.URIRef('http://www.w3.org/ns/shacl#datatype'): set(),\n",
       "  rdflib.term.URIRef('http://www.w3.org/ns/shacl#nodeKind'): {'http://www.w3.org/ns/shacl#IRI'},\n",
       "  rdflib.term.URIRef('http://www.w3.org/ns/shacl#class'): {'http://data.europa.eu/a4g/ontology#DynamicPurchaseSystemTechniqueUsage',\n",
       "   'http://data.europa.eu/a4g/ontology#FrameworkAgreementTechniqueUsage'}},\n",
       " (rdflib.term.URIRef('http://data.europa.eu/a4g/ontology#Procedure'),\n",
       "  rdflib.term.URIRef('http://data.europa.eu/a4g/ontology#isJointProcurement')): {rdflib.term.URIRef('http://www.w3.org/ns/shacl#datatype'): {'http://www.w3.org/2001/XMLSchema#boolean'},\n",
       "  rdflib.term.URIRef('http://www.w3.org/ns/shacl#nodeKind'): {'http://www.w3.org/ns/shacl#Literal'},\n",
       "  rdflib.term.URIRef('http://www.w3.org/ns/shacl#class'): set()},\n",
       " (rdflib.term.URIRef('http://data.europa.eu/a4g/ontology#Procedure'),\n",
       "  rdflib.term.URIRef('http://data.europa.eu/a4g/ontology#hasID')): {rdflib.term.URIRef('http://www.w3.org/ns/shacl#datatype'): set(),\n",
       "  rdflib.term.URIRef('http://www.w3.org/ns/shacl#nodeKind'): {'http://www.w3.org/ns/shacl#IRI'},\n",
       "  rdflib.term.URIRef('http://www.w3.org/ns/shacl#class'): {'http://data.europa.eu/a4g/ontology#Identifier'}},\n",
       " (rdflib.term.URIRef('http://data.europa.eu/a4g/ontology#Procedure'),\n",
       "  rdflib.term.URIRef('http://data.europa.eu/a4g/ontology#hasAcceleratedProcedureJustification')): {rdflib.term.URIRef('http://www.w3.org/ns/shacl#datatype'): set(),\n",
       "  rdflib.term.URIRef('http://www.w3.org/ns/shacl#nodeKind'): {'http://www.w3.org/ns/shacl#Literal'},\n",
       "  rdflib.term.URIRef('http://www.w3.org/ns/shacl#class'): set()},\n",
       " (rdflib.term.URIRef('http://data.europa.eu/a4g/ontology#Procedure'),\n",
       "  rdflib.term.URIRef('http://data.europa.eu/a4g/ontology#isCoveredByGPA')): {rdflib.term.URIRef('http://www.w3.org/ns/shacl#datatype'): {'http://www.w3.org/2001/XMLSchema#boolean'},\n",
       "  rdflib.term.URIRef('http://www.w3.org/ns/shacl#nodeKind'): {'http://www.w3.org/ns/shacl#Literal'},\n",
       "  rdflib.term.URIRef('http://www.w3.org/ns/shacl#class'): set()},\n",
       " (rdflib.term.URIRef('http://data.europa.eu/a4g/ontology#Procedure'),\n",
       "  rdflib.term.URIRef('http://data.europa.eu/a4g/ontology#hasProcurementScopeDividedIntoLot')): {rdflib.term.URIRef('http://www.w3.org/ns/shacl#datatype'): set(),\n",
       "  rdflib.term.URIRef('http://www.w3.org/ns/shacl#nodeKind'): {'http://www.w3.org/ns/shacl#IRI'},\n",
       "  rdflib.term.URIRef('http://www.w3.org/ns/shacl#class'): {'http://data.europa.eu/a4g/ontology#Lot'}},\n",
       " (rdflib.term.URIRef('http://data.europa.eu/a4g/ontology#Procedure'),\n",
       "  rdflib.term.URIRef('http://data.europa.eu/a4g/ontology#hasAdditionalInformation')): {rdflib.term.URIRef('http://www.w3.org/ns/shacl#datatype'): set(),\n",
       "  rdflib.term.URIRef('http://www.w3.org/ns/shacl#nodeKind'): {'http://www.w3.org/ns/shacl#Literal'},\n",
       "  rdflib.term.URIRef('http://www.w3.org/ns/shacl#class'): set()},\n",
       " (rdflib.term.URIRef('http://data.europa.eu/a4g/ontology#Procedure'),\n",
       "  rdflib.term.URIRef('http://data.europa.eu/a4g/ontology#hasTitle')): {rdflib.term.URIRef('http://www.w3.org/ns/shacl#datatype'): set(),\n",
       "  rdflib.term.URIRef('http://www.w3.org/ns/shacl#nodeKind'): {'http://www.w3.org/ns/shacl#Literal'},\n",
       "  rdflib.term.URIRef('http://www.w3.org/ns/shacl#class'): set()},\n",
       " (rdflib.term.URIRef('http://data.europa.eu/a4g/ontology#Procedure'),\n",
       "  rdflib.term.URIRef('http://data.europa.eu/a4g/ontology#isSubjectToProcedureSpecificTerm')): {rdflib.term.URIRef('http://www.w3.org/ns/shacl#datatype'): set(),\n",
       "  rdflib.term.URIRef('http://www.w3.org/ns/shacl#nodeKind'): {'http://www.w3.org/ns/shacl#IRI'},\n",
       "  rdflib.term.URIRef('http://www.w3.org/ns/shacl#class'): {'http://data.europa.eu/a4g/ontology#DirectAwardTerm',\n",
       "   'http://data.europa.eu/a4g/ontology#ProcedureTerm',\n",
       "   'http://data.europa.eu/a4g/ontology#ReviewTerm'}},\n",
       " (rdflib.term.URIRef('http://data.europa.eu/a4g/ontology#Procedure'),\n",
       "  rdflib.term.URIRef('http://data.europa.eu/a4g/ontology#hasDescription')): {rdflib.term.URIRef('http://www.w3.org/ns/shacl#datatype'): set(),\n",
       "  rdflib.term.URIRef('http://www.w3.org/ns/shacl#nodeKind'): {'http://www.w3.org/ns/shacl#Literal'},\n",
       "  rdflib.term.URIRef('http://www.w3.org/ns/shacl#class'): set()},\n",
       " (rdflib.term.URIRef('http://data.europa.eu/a4g/ontology#Procedure'),\n",
       "  rdflib.term.URIRef('http://data.europa.eu/a4g/ontology#isAccelerated')): {rdflib.term.URIRef('http://www.w3.org/ns/shacl#datatype'): {'http://www.w3.org/2001/XMLSchema#boolean'},\n",
       "  rdflib.term.URIRef('http://www.w3.org/ns/shacl#nodeKind'): {'http://www.w3.org/ns/shacl#Literal'},\n",
       "  rdflib.term.URIRef('http://www.w3.org/ns/shacl#class'): set()},\n",
       " (rdflib.term.URIRef('http://data.europa.eu/a4g/ontology#Lot'),\n",
       "  rdflib.term.URIRef('http://data.europa.eu/a4g/ontology#foreseesContractSpecificTerm')): {rdflib.term.URIRef('http://www.w3.org/ns/shacl#datatype'): set(),\n",
       "  rdflib.term.URIRef('http://www.w3.org/ns/shacl#nodeKind'): {'http://www.w3.org/ns/shacl#IRI'},\n",
       "  rdflib.term.URIRef('http://www.w3.org/ns/shacl#class'): {'http://data.europa.eu/a4g/ontology#ContractTerm'}},\n",
       " (rdflib.term.URIRef('http://data.europa.eu/a4g/ontology#Lot'),\n",
       "  rdflib.term.URIRef('http://data.europa.eu/a4g/ontology#hasDescription')): {rdflib.term.URIRef('http://www.w3.org/ns/shacl#datatype'): set(),\n",
       "  rdflib.term.URIRef('http://www.w3.org/ns/shacl#nodeKind'): {'http://www.w3.org/ns/shacl#Literal'},\n",
       "  rdflib.term.URIRef('http://www.w3.org/ns/shacl#class'): set()},\n",
       " (rdflib.term.URIRef('http://data.europa.eu/a4g/ontology#Lot'),\n",
       "  rdflib.term.URIRef('http://data.europa.eu/a4g/ontology#hasPurpose')): {rdflib.term.URIRef('http://www.w3.org/ns/shacl#datatype'): set(),\n",
       "  rdflib.term.URIRef('http://www.w3.org/ns/shacl#nodeKind'): {'http://www.w3.org/ns/shacl#IRI'},\n",
       "  rdflib.term.URIRef('http://www.w3.org/ns/shacl#class'): {'http://data.europa.eu/a4g/ontology#Purpose'}},\n",
       " (rdflib.term.URIRef('http://data.europa.eu/a4g/ontology#Lot'),\n",
       "  rdflib.term.URIRef('http://data.europa.eu/a4g/ontology#isUsingEUFunds')): {rdflib.term.URIRef('http://www.w3.org/ns/shacl#datatype'): {'http://www.w3.org/2001/XMLSchema#boolean'},\n",
       "  rdflib.term.URIRef('http://www.w3.org/ns/shacl#nodeKind'): {'http://www.w3.org/ns/shacl#Literal'},\n",
       "  rdflib.term.URIRef('http://www.w3.org/ns/shacl#class'): set()},\n",
       " (rdflib.term.URIRef('http://data.europa.eu/a4g/ontology#Lot'),\n",
       "  rdflib.term.URIRef('http://data.europa.eu/a4g/ontology#isFundedBy')): {rdflib.term.URIRef('http://www.w3.org/ns/shacl#datatype'): set(),\n",
       "  rdflib.term.URIRef('http://www.w3.org/ns/shacl#nodeKind'): {'http://www.w3.org/ns/shacl#IRI'},\n",
       "  rdflib.term.URIRef('http://www.w3.org/ns/shacl#class'): {'http://data.europa.eu/a4g/ontology#Fund'}},\n",
       " (rdflib.term.URIRef('http://data.europa.eu/a4g/ontology#Lot'),\n",
       "  rdflib.term.URIRef('http://data.europa.eu/a4g/ontology#specifiesAwardCriterion')): {rdflib.term.URIRef('http://www.w3.org/ns/shacl#datatype'): set(),\n",
       "  rdflib.term.URIRef('http://www.w3.org/ns/shacl#nodeKind'): {'http://www.w3.org/ns/shacl#IRI'},\n",
       "  rdflib.term.URIRef('http://www.w3.org/ns/shacl#class'): {'http://data.europa.eu/a4g/ontology#AwardCriterion'}},\n",
       " (rdflib.term.URIRef('http://data.europa.eu/a4g/ontology#Lot'),\n",
       "  rdflib.term.URIRef('http://data.europa.eu/a4g/ontology#hasID')): {rdflib.term.URIRef('http://www.w3.org/ns/shacl#datatype'): set(),\n",
       "  rdflib.term.URIRef('http://www.w3.org/ns/shacl#nodeKind'): {'http://www.w3.org/ns/shacl#IRI'},\n",
       "  rdflib.term.URIRef('http://www.w3.org/ns/shacl#class'): {'http://data.europa.eu/a4g/ontology#Identifier'}},\n",
       " (rdflib.term.URIRef('http://data.europa.eu/a4g/ontology#Lot'),\n",
       "  rdflib.term.URIRef('http://data.europa.eu/a4g/ontology#hasTitle')): {rdflib.term.URIRef('http://www.w3.org/ns/shacl#datatype'): set(),\n",
       "  rdflib.term.URIRef('http://www.w3.org/ns/shacl#nodeKind'): {'http://www.w3.org/ns/shacl#Literal'},\n",
       "  rdflib.term.URIRef('http://www.w3.org/ns/shacl#class'): set()},\n",
       " (rdflib.term.URIRef('http://data.europa.eu/a4g/ontology#Lot'),\n",
       "  rdflib.term.URIRef('http://data.europa.eu/a4g/ontology#hasAdditionalInformation')): {rdflib.term.URIRef('http://www.w3.org/ns/shacl#datatype'): set(),\n",
       "  rdflib.term.URIRef('http://www.w3.org/ns/shacl#nodeKind'): {'http://www.w3.org/ns/shacl#Literal'},\n",
       "  rdflib.term.URIRef('http://www.w3.org/ns/shacl#class'): set()},\n",
       " (rdflib.term.URIRef('http://data.europa.eu/a4g/ontology#Lot'),\n",
       "  rdflib.term.URIRef('http://data.europa.eu/a4g/ontology#hasRestatedEstimatedValue')): {rdflib.term.URIRef('http://www.w3.org/ns/shacl#datatype'): set(),\n",
       "  rdflib.term.URIRef('http://www.w3.org/ns/shacl#nodeKind'): {'http://www.w3.org/ns/shacl#IRI'},\n",
       "  rdflib.term.URIRef('http://www.w3.org/ns/shacl#class'): {'http://data.europa.eu/a4g/ontology#MonetaryValue'}},\n",
       " (rdflib.term.URIRef('http://data.europa.eu/a4g/ontology#Identifier'),\n",
       "  rdflib.term.URIRef('http://data.europa.eu/a4g/ontology#hasIdentifierValue')): {rdflib.term.URIRef('http://www.w3.org/ns/shacl#datatype'): {'http://www.w3.org/2001/XMLSchema#string'},\n",
       "  rdflib.term.URIRef('http://www.w3.org/ns/shacl#nodeKind'): {'http://www.w3.org/ns/shacl#Literal'},\n",
       "  rdflib.term.URIRef('http://www.w3.org/ns/shacl#class'): set()},\n",
       " (rdflib.term.URIRef('http://www.w3.org/ns/org#Organization'),\n",
       "  rdflib.term.URIRef('http://data.europa.eu/a4g/ontology#hasLegalName')): {rdflib.term.URIRef('http://www.w3.org/ns/shacl#datatype'): set(),\n",
       "  rdflib.term.URIRef('http://www.w3.org/ns/shacl#nodeKind'): {'http://www.w3.org/ns/shacl#Literal'},\n",
       "  rdflib.term.URIRef('http://www.w3.org/ns/shacl#class'): set()},\n",
       " (rdflib.term.URIRef('http://www.w3.org/ns/org#Organization'),\n",
       "  rdflib.term.URIRef('http://data.europa.eu/a4g/ontology#hasID')): {rdflib.term.URIRef('http://www.w3.org/ns/shacl#datatype'): set(),\n",
       "  rdflib.term.URIRef('http://www.w3.org/ns/shacl#nodeKind'): {'http://www.w3.org/ns/shacl#IRI'},\n",
       "  rdflib.term.URIRef('http://www.w3.org/ns/shacl#class'): {'http://data.europa.eu/a4g/ontology#Identifier'}},\n",
       " (rdflib.term.URIRef('http://www.w3.org/ns/org#Organization'),\n",
       "  rdflib.term.URIRef('http://data.europa.eu/m8g/registeredAddress')): {rdflib.term.URIRef('http://www.w3.org/ns/shacl#datatype'): set(),\n",
       "  rdflib.term.URIRef('http://www.w3.org/ns/shacl#nodeKind'): {'http://www.w3.org/ns/shacl#IRI'},\n",
       "  rdflib.term.URIRef('http://www.w3.org/ns/shacl#class'): {'http://www.w3.org/ns/locn#Address'}},\n",
       " (rdflib.term.URIRef('http://www.w3.org/ns/org#Organization'),\n",
       "  rdflib.term.URIRef('http://data.europa.eu/a4g/ontology#hasBuyerLegalType')): {rdflib.term.URIRef('http://www.w3.org/ns/shacl#datatype'): set(),\n",
       "  rdflib.term.URIRef('http://www.w3.org/ns/shacl#nodeKind'): {'http://www.w3.org/ns/shacl#IRI'},\n",
       "  rdflib.term.URIRef('http://www.w3.org/ns/shacl#class'): set()},\n",
       " (rdflib.term.URIRef('http://www.w3.org/ns/org#Organization'),\n",
       "  rdflib.term.URIRef('http://data.europa.eu/a4g/ontology#hasMainActivityDescription')): {rdflib.term.URIRef('http://www.w3.org/ns/shacl#datatype'): set(),\n",
       "  rdflib.term.URIRef('http://www.w3.org/ns/shacl#nodeKind'): {'http://www.w3.org/ns/shacl#Literal'},\n",
       "  rdflib.term.URIRef('http://www.w3.org/ns/shacl#class'): set()},\n",
       " (rdflib.term.URIRef('http://www.w3.org/ns/org#Organization'),\n",
       "  rdflib.term.URIRef('http://data.europa.eu/a4g/ontology#hasPrimaryContactPoint')): {rdflib.term.URIRef('http://www.w3.org/ns/shacl#datatype'): set(),\n",
       "  rdflib.term.URIRef('http://www.w3.org/ns/shacl#nodeKind'): {'http://www.w3.org/ns/shacl#IRI'},\n",
       "  rdflib.term.URIRef('http://www.w3.org/ns/shacl#class'): {'http://data.europa.eu/m8g/ContactPoint'}},\n",
       " (rdflib.term.URIRef('http://www.w3.org/ns/org#Organization'),\n",
       "  rdflib.term.URIRef('http://data.europa.eu/a4g/ontology#hasBuyerLegalTypeDescription')): {rdflib.term.URIRef('http://www.w3.org/ns/shacl#datatype'): set(),\n",
       "  rdflib.term.URIRef('http://www.w3.org/ns/shacl#nodeKind'): {'http://www.w3.org/ns/shacl#Literal'},\n",
       "  rdflib.term.URIRef('http://www.w3.org/ns/shacl#class'): set()},\n",
       " (rdflib.term.URIRef('http://www.w3.org/ns/org#Organization'),\n",
       "  rdflib.term.URIRef('http://data.europa.eu/a4g/ontology#hasMainActivity')): {rdflib.term.URIRef('http://www.w3.org/ns/shacl#datatype'): set(),\n",
       "  rdflib.term.URIRef('http://www.w3.org/ns/shacl#nodeKind'): {'http://www.w3.org/ns/shacl#IRI'},\n",
       "  rdflib.term.URIRef('http://www.w3.org/ns/shacl#class'): set()},\n",
       " (rdflib.term.URIRef('http://data.europa.eu/a4g/ontology#MonetaryValue'),\n",
       "  rdflib.term.URIRef('http://data.europa.eu/a4g/ontology#hasCurrency')): {rdflib.term.URIRef('http://www.w3.org/ns/shacl#datatype'): set(),\n",
       "  rdflib.term.URIRef('http://www.w3.org/ns/shacl#nodeKind'): {'http://www.w3.org/ns/shacl#IRI'},\n",
       "  rdflib.term.URIRef('http://www.w3.org/ns/shacl#class'): set()},\n",
       " (rdflib.term.URIRef('http://data.europa.eu/a4g/ontology#MonetaryValue'),\n",
       "  rdflib.term.URIRef('http://data.europa.eu/a4g/ontology#hasAmountValue')): {rdflib.term.URIRef('http://www.w3.org/ns/shacl#datatype'): {'http://www.w3.org/2001/XMLSchema#decimal'},\n",
       "  rdflib.term.URIRef('http://www.w3.org/ns/shacl#nodeKind'): {'http://www.w3.org/ns/shacl#Literal'},\n",
       "  rdflib.term.URIRef('http://www.w3.org/ns/shacl#class'): set()}}"
      ]
     },
     "execution_count": 22,
     "metadata": {},
     "output_type": "execute_result"
    }
   ],
   "source": [
    "m"
   ]
  },
  {
   "cell_type": "code",
   "execution_count": 21,
   "id": "23a26f22",
   "metadata": {},
   "outputs": [
    {
     "data": {
      "text/plain": [
       "{'datatype'}"
      ]
     },
     "execution_count": 21,
     "metadata": {},
     "output_type": "execute_result"
    }
   ],
   "source": [
    "c = {\"rml\":{\"datatype\":\"A\"},\"cm\":{\"datatype\":\"A\"},\"owl\":{\"datatype\":\"C\"}}\n",
    "shared_keys = set.intersection(*(set(cmap.keys()) for cmap in c.values()))\n",
    "shared_keys"
   ]
  },
  {
   "cell_type": "code",
   "execution_count": null,
   "id": "9d7d47f4",
   "metadata": {},
   "outputs": [],
   "source": []
  },
  {
   "cell_type": "code",
   "execution_count": 11,
   "id": "3e033245",
   "metadata": {},
   "outputs": [],
   "source": [
    "a = m[(rdflib.term.URIRef('http://data.europa.eu/a4g/ontology#OrganisationGroup'),\n",
    "  rdflib.term.URIRef('http://data.europa.eu/a4g/ontology#hasMember'))][rdflib.term.URIRef('http://www.w3.org/ns/shacl#nodeKind')]"
   ]
  },
  {
   "cell_type": "code",
   "execution_count": 17,
   "id": "78e34216",
   "metadata": {},
   "outputs": [
    {
     "data": {
      "text/plain": [
       "dict_values([set(), {'http://www.w3.org/ns/shacl#IRI'}, {'http://www.w3.org/ns/org#Organization'}])"
      ]
     },
     "execution_count": 17,
     "metadata": {},
     "output_type": "execute_result"
    }
   ],
   "source": [
    "m[(rdflib.term.URIRef('http://data.europa.eu/a4g/ontology#OrganisationGroup'),\n",
    "  rdflib.term.URIRef('http://data.europa.eu/a4g/ontology#hasMember'))].values()"
   ]
  },
  {
   "cell_type": "code",
   "execution_count": 16,
   "id": "1b1b3dfd",
   "metadata": {},
   "outputs": [
    {
     "data": {
      "text/plain": [
       "True"
      ]
     },
     "execution_count": 16,
     "metadata": {},
     "output_type": "execute_result"
    }
   ],
   "source": [
    "'http://www.w3.org/ns/shacl#IRI' in a"
   ]
  },
  {
   "cell_type": "code",
   "execution_count": 22,
   "id": "dec2b33b",
   "metadata": {},
   "outputs": [],
   "source": [
    "def extract_constraint_tuple(graph, shape, no_or=False):\n",
    "    \"\"\"\n",
    "    Extract a single (datatype, nodeKind, class) constraint.\n",
    "    If no_or=True: treat shape as atomic.\n",
    "    \"\"\"\n",
    "    d = graph.value(subject=shape, predicate=SH.datatype)\n",
    "    k = graph.value(subject=shape, predicate=SH.nodeKind)\n",
    "    c = graph.value(subject=shape, predicate=SH[\"class\"])\n",
    "\n",
    "    # sh:node 替代 class\n",
    "    if not c:\n",
    "        node = graph.value(subject=shape, predicate=SH.node)\n",
    "        if node:\n",
    "            c = graph.value(subject=node, predicate=SH[\"class\"])\n",
    "\n",
    "    return (\n",
    "        str(d) if d else None,\n",
    "        str(k) if k else None,\n",
    "        str(c) if c else None,\n",
    "    )\n"
   ]
  },
  {
   "cell_type": "code",
   "execution_count": 41,
   "id": "2f3e6e4c",
   "metadata": {},
   "outputs": [],
   "source": [
    "from rdflib import RDF, SH\n",
    "from collections import defaultdict\n",
    "\n",
    "def extract_constraints_from_graph(graph, source_type=\"CM\"):\n",
    "    \"\"\"\n",
    "    For each (targetClass, path), extract all constraints.\n",
    "    Return: dict mapping (class, path) -> set of (datatype, nodeKind, class)\n",
    "    \"\"\"\n",
    "    shape_map = defaultdict(list)\n",
    "\n",
    "    # Step 1: 构建 (targetClass, path) 到 shape 的映射\n",
    "    for s,_,cls in graph.triples((None,SH.targetClass,None)):\n",
    "            for ps in graph.objects(s, SH.property):\n",
    "                    path = graph.value(ps, SH.path)\n",
    "                    if path:\n",
    "                        shape_map[(str(cls), str(path))].append(ps)\n",
    "            path = graph.value(s, SH.path)\n",
    "            if path:\n",
    "                    shape_map[(str(cls), str(path))].append(s)\n",
    "\n",
    "    # Step 2: 每个 (class, path) 分别处理不同来源\n",
    "    constraint_map = {}\n",
    "\n",
    "\n",
    "    for (cls, path), shape_list in shape_map.items():\n",
    "        constraint_set = set()\n",
    "\n",
    "        if source_type in {\"CM\", \"RML\"}:\n",
    "            for shape in shape_list:\n",
    "                or_node = graph.value(subject=shape, predicate=SH[\"or\"])\n",
    "                or_group = []\n",
    "                if or_node:\n",
    "                    for alt in graph.items(or_node):\n",
    "                        d, k, c = extract_constraint_tuple(graph, alt)\n",
    "                        single = []\n",
    "                        if d: single.append((SH.datatype, d))\n",
    "                        if k: single.append((SH.nodeKind, k))\n",
    "                        if c: single.append((SH[\"class\"], c))\n",
    "                        if single:\n",
    "                            or_group.append(single)\n",
    "                d, k, c = extract_constraint_tuple(graph, shape)\n",
    "                hashable_or_group = tuple(tuple(group) for group in or_group)\n",
    "                constraint_set.add((d, k, c, hashable_or_group))\n",
    "\n",
    "        else:  # OWL special case\n",
    "            datatype_set = set()\n",
    "            nodekind_set = set()\n",
    "            class_set = set()\n",
    "\n",
    "            for shape in shape_list:\n",
    "                d, k, c = extract_constraint_tuple(graph, shape)\n",
    "                if d: datatype_set.add(d)\n",
    "                if k: nodekind_set.add(k)\n",
    "                if c: class_set.add(c)\n",
    "\n",
    "            or_group = []\n",
    "\n",
    "            # 单个值保留在前三元组，多值则放入 or 组中\n",
    "            d_val = next(iter(datatype_set)) if len(datatype_set) == 1 else None\n",
    "            k_val = next(iter(nodekind_set)) if len(nodekind_set) == 1 else None\n",
    "            c_val = next(iter(class_set)) if len(class_set) == 1 else None\n",
    "\n",
    "            if len(datatype_set) > 1:\n",
    "                or_group.append([(SH.datatype, d) for d in datatype_set])\n",
    "            if len(nodekind_set) > 1:\n",
    "                or_group.append([(SH.nodeKind, k) for k in nodekind_set])\n",
    "            if len(class_set) > 1:\n",
    "                or_group.append([(SH[\"class\"], c) for c in class_set])\n",
    "\n",
    "            hashable_or_group = tuple(tuple(group) for group in or_group)\n",
    "            constraint_set.add((d_val, k_val, c_val, hashable_or_group))\n",
    "\n",
    "        constraint_map[(cls, path)] = constraint_set\n",
    "    return constraint_map"
   ]
  },
  {
   "cell_type": "code",
   "execution_count": 53,
   "id": "b188d3be",
   "metadata": {},
   "outputs": [],
   "source": [
    "graph = rml_g\n",
    "c_rml = extract_constraints_from_graph(graph, source_type=\"RML\")"
   ]
  },
  {
   "cell_type": "code",
   "execution_count": 54,
   "id": "1acb8e7a",
   "metadata": {},
   "outputs": [],
   "source": [
    "graph = cm_g\n",
    "c_cm = extract_constraints_from_graph(graph, source_type=\"CM\")"
   ]
  },
  {
   "cell_type": "code",
   "execution_count": 55,
   "id": "8beba178",
   "metadata": {},
   "outputs": [],
   "source": [
    "graph = owl_g\n",
    "c_owl = extract_constraints_from_graph(graph, source_type=\"OWL\")"
   ]
  },
  {
   "cell_type": "code",
   "execution_count": 63,
   "id": "5dca4743",
   "metadata": {},
   "outputs": [],
   "source": [
    "c2 = c_cm[('http://data.europa.eu/a4g/ontology#Notice', 'http://data.europa.eu/a4g/ontology#announcesRole')]"
   ]
  },
  {
   "cell_type": "code",
   "execution_count": 62,
   "id": "e5132dfd",
   "metadata": {},
   "outputs": [],
   "source": [
    "c1 = c_rml[('http://data.europa.eu/a4g/ontology#ResultNotice', 'http://data.europa.eu/a4g/ontology#announcesRole')]"
   ]
  },
  {
   "cell_type": "code",
   "execution_count": 70,
   "id": "65a43e87",
   "metadata": {},
   "outputs": [
    {
     "name": "stdout",
     "output_type": "stream",
     "text": [
      "OKK\n"
     ]
    }
   ],
   "source": [
    "for c11 in c1:\n",
    "    for c22 in c2:\n",
    "        print(\"OKK\")\n",
    "        diff = compare_constraints_detailed(c11, c22)"
   ]
  },
  {
   "cell_type": "code",
   "execution_count": 71,
   "id": "dca7af99",
   "metadata": {},
   "outputs": [
    {
     "data": {
      "text/plain": [
       "[('or',\n",
       "  [[rdflib.term.URIRef('http://www.w3.org/ns/shacl#class'),\n",
       "    'http://data.europa.eu/a4g/ontology#TenderReceiver']],\n",
       "  'present',\n",
       "  None),\n",
       " ('or',\n",
       "  [[rdflib.term.URIRef('http://www.w3.org/ns/shacl#class'),\n",
       "    'http://data.europa.eu/a4g/ontology#ProcurementProcedureInformationProvider']],\n",
       "  'present',\n",
       "  None),\n",
       " ('or',\n",
       "  [[rdflib.term.URIRef('http://www.w3.org/ns/shacl#class'),\n",
       "    'http://data.europa.eu/a4g/ontology#Winner']],\n",
       "  'present',\n",
       "  None)]"
      ]
     },
     "execution_count": 71,
     "metadata": {},
     "output_type": "execute_result"
    }
   ],
   "source": [
    "diff"
   ]
  },
  {
   "cell_type": "code",
   "execution_count": null,
   "id": "4bb084f4",
   "metadata": {},
   "outputs": [
    {
     "ename": "ValueError",
     "evalue": "not enough values to unpack (expected 4, got 1)",
     "output_type": "error",
     "traceback": [
      "\u001b[31m---------------------------------------------------------------------------\u001b[39m",
      "\u001b[31mValueError\u001b[39m                                Traceback (most recent call last)",
      "\u001b[36mCell\u001b[39m\u001b[36m \u001b[39m\u001b[32mIn[64]\u001b[39m\u001b[32m, line 1\u001b[39m\n\u001b[32m----> \u001b[39m\u001b[32m1\u001b[39m \u001b[43mcompare_constraints_detailed\u001b[49m\u001b[43m(\u001b[49m\u001b[43mc1\u001b[49m\u001b[43m,\u001b[49m\u001b[43m \u001b[49m\u001b[43mc2\u001b[49m\u001b[43m)\u001b[49m\n",
      "\u001b[36mCell\u001b[39m\u001b[36m \u001b[39m\u001b[32mIn[61]\u001b[39m\u001b[32m, line 5\u001b[39m, in \u001b[36mcompare_constraints_detailed\u001b[39m\u001b[34m(c1, c2)\u001b[39m\n\u001b[32m      1\u001b[39m \u001b[38;5;28;01mdef\u001b[39;00m\u001b[38;5;250m \u001b[39m\u001b[34mcompare_constraints_detailed\u001b[39m(c1, c2):\n\u001b[32m      2\u001b[39m \u001b[38;5;250m    \u001b[39m\u001b[33;03m\"\"\"\u001b[39;00m\n\u001b[32m      3\u001b[39m \u001b[33;03m    比较两个 constraint 四元组 (d, k, c, or) 结构，返回差异字段及其值。\u001b[39;00m\n\u001b[32m      4\u001b[39m \u001b[33;03m    \"\"\"\u001b[39;00m\n\u001b[32m----> \u001b[39m\u001b[32m5\u001b[39m     d1, k1, c1_val, or1 = c1\n\u001b[32m      6\u001b[39m     d2, k2, c2_val, or2 = c2\n\u001b[32m      8\u001b[39m     diffs = []\n",
      "\u001b[31mValueError\u001b[39m: not enough values to unpack (expected 4, got 1)"
     ]
    }
   ],
   "source": [
    "compare_constraints_detailed(c1, c2)"
   ]
  },
  {
   "cell_type": "code",
   "execution_count": null,
   "id": "6afeaa4e",
   "metadata": {},
   "outputs": [],
   "source": []
  },
  {
   "cell_type": "code",
   "execution_count": 61,
   "id": "93afb183",
   "metadata": {},
   "outputs": [],
   "source": [
    "\n",
    "def compare_constraints_detailed(c1, c2):\n",
    "    \"\"\"\n",
    "    比较两个 constraint 四元组 (d, k, c, or) 结构，返回差异字段及其值。\n",
    "    \"\"\"\n",
    "    d1, k1, c1_val, or1 = c1\n",
    "    d2, k2, c2_val, or2 = c2\n",
    "\n",
    "    diffs = []\n",
    "\n",
    "    if d1 != d2:\n",
    "        if d1 is not None and d1 != d2:\n",
    "            diffs.append((\"datatype\", d1, \"present\", None))\n",
    "        if d2 is not None and d2 != d1:\n",
    "            diffs.append((\"datatype\", d2, \"missing\", None))\n",
    "\n",
    "    if k1 != k2:\n",
    "        if k1 is not None and k1 != k2:\n",
    "            diffs.append((\"nodeKind\", k1, \"present\", None))\n",
    "        if k2 is not None and k2 != k1:\n",
    "            diffs.append((\"nodeKind\", k2, \"missing\", None))\n",
    "\n",
    "    if c1_val != c2_val:\n",
    "        if c1_val is not None and c1_val != c2_val:\n",
    "            diffs.append((\"class\", c1_val, \"present\", None))\n",
    "        if c2_val is not None and c2_val != c1_val:\n",
    "            diffs.append((\"class\", c2_val, \"missing\", None))\n",
    "\n",
    "    # 处理 or group：集合中只要某组缺失就算差异（比较不考虑顺序）\n",
    "    or1_sets = set(frozenset(group) for group in or1) if or1 else set()\n",
    "    or2_sets = set(frozenset(group) for group in or2) if or2 else set()\n",
    "\n",
    "    extra_in_1 = or1_sets - or2_sets\n",
    "    extra_in_2 = or2_sets - or1_sets\n",
    "\n",
    "    for group in extra_in_1:\n",
    "        diffs.append((\"or\", [list(i) for i in group], \"present\", None))\n",
    "    for group in extra_in_2:\n",
    "        diffs.append((\"or\", [list(i) for i in group], \"missing\", None))\n",
    "\n",
    "    return diffs"
   ]
  },
  {
   "cell_type": "code",
   "execution_count": 52,
   "id": "a29e5c79",
   "metadata": {},
   "outputs": [
    {
     "data": {
      "text/plain": [
       "{(None,\n",
       "  'http://www.w3.org/ns/shacl#IRI',\n",
       "  None,\n",
       "  (((rdflib.term.URIRef('http://www.w3.org/ns/shacl#class'),\n",
       "     'http://data.europa.eu/a4g/ontology#TenderReceiver'),),\n",
       "   ((rdflib.term.URIRef('http://www.w3.org/ns/shacl#class'),\n",
       "     'http://data.europa.eu/a4g/ontology#ProcurementProcedureInformationProvider'),),\n",
       "   ((rdflib.term.URIRef('http://www.w3.org/ns/shacl#class'),\n",
       "     'http://data.europa.eu/a4g/ontology#ReviewProcedureInformationProvider'),),\n",
       "   ((rdflib.term.URIRef('http://www.w3.org/ns/shacl#class'),\n",
       "     'http://data.europa.eu/a4g/ontology#Reviewer'),),\n",
       "   ((rdflib.term.URIRef('http://www.w3.org/ns/shacl#class'),\n",
       "     'http://data.europa.eu/a4g/ontology#Winner'),),\n",
       "   ((rdflib.term.URIRef('http://www.w3.org/ns/shacl#class'),\n",
       "     'http://data.europa.eu/a4g/ontology#Buyer'),),\n",
       "   ((rdflib.term.URIRef('http://www.w3.org/ns/shacl#class'),\n",
       "     'http://data.europa.eu/a4g/ontology#Mediator'),)))}"
      ]
     },
     "execution_count": 52,
     "metadata": {},
     "output_type": "execute_result"
    }
   ],
   "source": [
    "c[('http://data.europa.eu/a4g/ontology#ResultNotice', 'http://data.europa.eu/a4g/ontology#announcesRole')]"
   ]
  },
  {
   "cell_type": "code",
   "execution_count": null,
   "id": "dd143869",
   "metadata": {},
   "outputs": [
    {
     "name": "stdout",
     "output_type": "stream",
     "text": [
      "(None, 'http://www.w3.org/ns/shacl#IRI', None, (((rdflib.term.URIRef('http://www.w3.org/ns/shacl#class'), 'http://data.europa.eu/a4g/ontology#EnvironmentalProtectionInformationProvider'), (rdflib.term.URIRef('http://www.w3.org/ns/shacl#class'), 'http://data.europa.eu/a4g/ontology#CentralPurchasingBody'), (rdflib.term.URIRef('http://www.w3.org/ns/shacl#class'), 'http://data.europa.eu/a4g/ontology#TenderProcessor'), (rdflib.term.URIRef('http://www.w3.org/ns/shacl#class'), 'http://data.europa.eu/a4g/ontology#Subcontractor'), (rdflib.term.URIRef('http://www.w3.org/ns/shacl#class'), 'http://data.europa.eu/a4g/ontology#TenderReceiver'), (rdflib.term.URIRef('http://www.w3.org/ns/shacl#class'), 'http://data.europa.eu/a4g/ontology#OfflineAccessProvider'), (rdflib.term.URIRef('http://www.w3.org/ns/shacl#class'), 'http://data.europa.eu/a4g/ontology#EmploymentInformationProvider'), (rdflib.term.URIRef('http://www.w3.org/ns/shacl#class'), 'http://data.europa.eu/a4g/ontology#ParticipationRequestProcessor'), (rdflib.term.URIRef('http://www.w3.org/ns/shacl#class'), 'http://data.europa.eu/a4g/ontology#Reviewer'), (rdflib.term.URIRef('http://www.w3.org/ns/shacl#class'), 'http://data.europa.eu/a4g/ontology#AuxiliaryParty'), (rdflib.term.URIRef('http://www.w3.org/ns/shacl#class'), 'http://data.europa.eu/a4g/ontology#ReviewRequester'), (rdflib.term.URIRef('http://www.w3.org/ns/shacl#class'), 'http://data.europa.eu/a4g/ontology#PaymentExecutor'), (rdflib.term.URIRef('http://www.w3.org/ns/shacl#class'), 'http://data.europa.eu/a4g/ontology#ReviewProcedureInformationProvider'), (rdflib.term.URIRef('http://www.w3.org/ns/shacl#class'), 'http://data.europa.eu/a4g/ontology#TaxInformationProvider'), (rdflib.term.URIRef('http://www.w3.org/ns/shacl#class'), 'http://data.europa.eu/a4g/ontology#AcquiringCentralPurchasingBody'), (rdflib.term.URIRef('http://www.w3.org/ns/shacl#class'), 'http://data.europa.eu/a4g/ontology#LeadBuyer'), (rdflib.term.URIRef('http://www.w3.org/ns/shacl#class'), 'http://data.europa.eu/a4g/ontology#ProcurementServiceProvider'), (rdflib.term.URIRef('http://www.w3.org/ns/shacl#class'), 'http://data.europa.eu/a4g/ontology#Awarder'), (rdflib.term.URIRef('http://www.w3.org/ns/shacl#class'), 'http://data.europa.eu/a4g/ontology#BudgetProvider'), (rdflib.term.URIRef('http://www.w3.org/ns/shacl#class'), 'http://data.europa.eu/a4g/ontology#ParticipationRequestReceiver'), (rdflib.term.URIRef('http://www.w3.org/ns/shacl#class'), 'http://data.europa.eu/a4g/ontology#Winner'), (rdflib.term.URIRef('http://www.w3.org/ns/shacl#class'), 'http://data.europa.eu/a4g/ontology#OtherEntity'), (rdflib.term.URIRef('http://www.w3.org/ns/shacl#class'), 'http://data.europa.eu/a4g/ontology#OfferingParty'), (rdflib.term.URIRef('http://www.w3.org/ns/shacl#class'), 'http://data.europa.eu/a4g/ontology#Mediator'), (rdflib.term.URIRef('http://www.w3.org/ns/shacl#class'), 'http://data.europa.eu/a4g/ontology#CatalogueReceiver'), (rdflib.term.URIRef('http://www.w3.org/ns/shacl#class'), 'http://data.europa.eu/a4g/ontology#AcquiringParty'), (rdflib.term.URIRef('http://www.w3.org/ns/shacl#class'), 'http://data.europa.eu/a4g/ontology#ProcurementProcedureInformationProvider'), (rdflib.term.URIRef('http://www.w3.org/ns/shacl#class'), 'http://data.europa.eu/a4g/ontology#CatalogueProvider'), (rdflib.term.URIRef('http://www.w3.org/ns/shacl#class'), 'http://data.europa.eu/a4g/ontology#Contractor'), (rdflib.term.URIRef('http://www.w3.org/ns/shacl#class'), 'http://data.europa.eu/a4g/ontology#Buyer'), (rdflib.term.URIRef('http://www.w3.org/ns/shacl#class'), 'http://data.europa.eu/a4g/ontology#AgentInRole'), (rdflib.term.URIRef('http://www.w3.org/ns/shacl#class'), 'http://data.europa.eu/a4g/ontology#AwardingCentralPurchasingBody'), (rdflib.term.URIRef('http://www.w3.org/ns/shacl#class'), 'http://data.europa.eu/a4g/ontology#Tenderer')),)) /n\n"
     ]
    }
   ],
   "source": [
    "c[('http://data.europa.eu/a4g/ontology#ResultNotice', 'http://data.europa.eu/a4g/ontology#announcesRole')]:"
   ]
  },
  {
   "cell_type": "code",
   "execution_count": 79,
   "id": "1ab61928",
   "metadata": {},
   "outputs": [],
   "source": [
    "constraints_by_source = {\"RML\": c_rml[('http://data.europa.eu/a4g/ontology#ResultNotice', 'http://data.europa.eu/a4g/ontology#announcesRole')], \"CM\": c_cm[('http://data.europa.eu/a4g/ontology#Notice', 'http://data.europa.eu/a4g/ontology#announcesRole')], \"OWL\": c_owl[('http://data.europa.eu/a4g/ontology#ResultNotice', 'http://data.europa.eu/a4g/ontology#announcesRole')]}\n",
    "all_constraints = set().union(*constraints_by_source.values())"
   ]
  },
  {
   "cell_type": "code",
   "execution_count": 109,
   "id": "ec8da42c",
   "metadata": {},
   "outputs": [],
   "source": [
    "def decompose_constraint_tuple(constraint):\n",
    "    \"\"\"将一个constraint拆解成非or和or部分\"\"\"\n",
    "    for c in constraint:\n",
    "        cons = c\n",
    "\n",
    "    d, k, c, or_groups = cons\n",
    "    components = []\n",
    "\n",
    "    if d is not None:\n",
    "        components.append((\"sh:datatype\", d))\n",
    "    if k is not None:\n",
    "        components.append((\"sh:nodeKind\", k))\n",
    "    if c is not None:\n",
    "        components.append((\"sh:class\", c))\n",
    "\n",
    "    return components, or_groups or []"
   ]
  },
  {
   "cell_type": "code",
   "execution_count": 87,
   "id": "47b03e07",
   "metadata": {},
   "outputs": [
    {
     "name": "stdout",
     "output_type": "stream",
     "text": [
      "here\n",
      "(None, 'http://www.w3.org/ns/shacl#IRI', None, (((rdflib.term.URIRef('http://www.w3.org/ns/shacl#class'), 'http://data.europa.eu/a4g/ontology#TenderReceiver'),), ((rdflib.term.URIRef('http://www.w3.org/ns/shacl#class'), 'http://data.europa.eu/a4g/ontology#ProcurementProcedureInformationProvider'),), ((rdflib.term.URIRef('http://www.w3.org/ns/shacl#class'), 'http://data.europa.eu/a4g/ontology#ReviewProcedureInformationProvider'),), ((rdflib.term.URIRef('http://www.w3.org/ns/shacl#class'), 'http://data.europa.eu/a4g/ontology#Reviewer'),), ((rdflib.term.URIRef('http://www.w3.org/ns/shacl#class'), 'http://data.europa.eu/a4g/ontology#Winner'),), ((rdflib.term.URIRef('http://www.w3.org/ns/shacl#class'), 'http://data.europa.eu/a4g/ontology#Buyer'),), ((rdflib.term.URIRef('http://www.w3.org/ns/shacl#class'), 'http://data.europa.eu/a4g/ontology#Mediator'),)))\n"
     ]
    }
   ],
   "source": [
    "for constraint_set in constraints_by_source.values():\n",
    "            for c in constraint_set:\n",
    "                    print(\"here\")\n",
    "                    print(c)\n",
    "            break\n",
    "                    "
   ]
  },
  {
   "cell_type": "code",
   "execution_count": 90,
   "id": "4bfad3e4",
   "metadata": {},
   "outputs": [],
   "source": [
    "simple, ors = decompose_constraint_tuple(c)"
   ]
  },
  {
   "cell_type": "code",
   "execution_count": 94,
   "id": "a24bc976",
   "metadata": {},
   "outputs": [],
   "source": [
    "all_simple = set()\n",
    "all_or_groups = set()"
   ]
  },
  {
   "cell_type": "code",
   "execution_count": 95,
   "id": "5107bc81",
   "metadata": {},
   "outputs": [],
   "source": [
    "all_simple.update(simple)\n",
    "all_or_groups.update(tuple(sorted(g)) for g in ors)"
   ]
  },
  {
   "cell_type": "code",
   "execution_count": 104,
   "id": "ef7b91a0",
   "metadata": {},
   "outputs": [
    {
     "name": "stdout",
     "output_type": "stream",
     "text": [
      "4\n"
     ]
    }
   ],
   "source": [
    "for c in c_rml[(\"http://data.europa.eu/a4g/ontology#AccessTerm\",\"http://data.europa.eu/a4g/ontology#hasPublicAccessURL\")]:\n",
    "    print(len(c))"
   ]
  },
  {
   "cell_type": "code",
   "execution_count": 110,
   "id": "4d48e801",
   "metadata": {},
   "outputs": [],
   "source": [
    "simple, ors = decompose_constraint_tuple(c_rml[(\"http://data.europa.eu/a4g/ontology#AccessTerm\",\"http://data.europa.eu/a4g/ontology#hasPublicAccessURL\")])"
   ]
  },
  {
   "cell_type": "code",
   "execution_count": 112,
   "id": "9504b5f8",
   "metadata": {},
   "outputs": [
    {
     "name": "stdout",
     "output_type": "stream",
     "text": [
      "(None, 'http://www.w3.org/ns/shacl#Literal', None, ())\n"
     ]
    }
   ],
   "source": [
    "print(c)"
   ]
  },
  {
   "cell_type": "code",
   "execution_count": 2,
   "id": "0903c6d0",
   "metadata": {},
   "outputs": [],
   "source": [
    "import rdflib"
   ]
  },
  {
   "cell_type": "code",
   "execution_count": 16,
   "id": "a32ffebb",
   "metadata": {},
   "outputs": [],
   "source": [
    "i = {(None, 'http://www.w3.org/ns/shacl#IRI', None, (((rdflib.term.URIRef('http://www.w3.org/ns/shacl#class'), 'http://data.europa.eu/a4g/ontology#DirectAwardTerm'), (rdflib.term.URIRef('http://www.w3.org/ns/shacl#class'), 'http://data.europa.eu/a4g/ontology#ProcedureTerm'), (rdflib.term.URIRef('http://www.w3.org/ns/shacl#class'), 'http://data.europa.eu/a4g/ontology#ReviewTerm'), (rdflib.term.URIRef('http://www.w3.org/ns/shacl#class'), 'http://data.europa.eu/a4g/ontology#SubmissionTerm'), (rdflib.term.URIRef('http://www.w3.org/ns/shacl#class'), 'http://data.europa.eu/a4g/ontology#FrameworkAgreementTerm'), (rdflib.term.URIRef('http://www.w3.org/ns/shacl#class'), 'http://data.europa.eu/a4g/ontology#ProcedureSpecificTerm'), (rdflib.term.URIRef('http://www.w3.org/ns/shacl#class'), 'http://data.europa.eu/a4g/ontology#AccessTerm')),))}"
   ]
  },
  {
   "cell_type": "code",
   "execution_count": 24,
   "id": "824f0b24",
   "metadata": {},
   "outputs": [],
   "source": [
    "i = {(None, 'http://www.w3.org/ns/shacl#IRI', None, (((rdflib.term.URIRef('http://www.w3.org/ns/shacl#class'), 'http://data.europa.eu/m8g/PublicOrganisation'),), ((rdflib.term.URIRef('http://www.w3.org/ns/shacl#class'), 'http://data.europa.eu/a4g/ontology#System'),), ((rdflib.term.URIRef('http://www.w3.org/ns/shacl#class'), 'http://data.europa.eu/a4g/ontology#Business'),), ((rdflib.term.URIRef('http://www.w3.org/ns/shacl#class'), 'http://data.europa.eu/m8g/Person'),), ((rdflib.term.URIRef('http://www.w3.org/ns/shacl#class'), 'http://xmlns.com/foaf/0.1/Person'),), ((rdflib.term.URIRef('http://www.w3.org/ns/shacl#class'), 'http://www.w3.org/ns/org#Organization'),), ((rdflib.term.URIRef('http://www.w3.org/ns/shacl#class'), 'http://xmlns.com/foaf/0.1/Agent'),), ((rdflib.term.URIRef('http://www.w3.org/ns/shacl#class'), 'http://data.europa.eu/a4g/ontology#OrganisationGroup'),)))} "
   ]
  },
  {
   "cell_type": "code",
   "execution_count": 25,
   "id": "cc0d1703",
   "metadata": {},
   "outputs": [],
   "source": [
    "for c in i:\n",
    "    c"
   ]
  },
  {
   "cell_type": "code",
   "execution_count": 26,
   "id": "542580e8",
   "metadata": {},
   "outputs": [],
   "source": [
    "d, k, c, or_groups = c"
   ]
  },
  {
   "cell_type": "code",
   "execution_count": 35,
   "id": "7cf2a0d2",
   "metadata": {},
   "outputs": [
    {
     "name": "stdout",
     "output_type": "stream",
     "text": [
      "False\n",
      "False\n",
      "False\n",
      "False\n",
      "False\n",
      "True\n",
      "False\n",
      "False\n"
     ]
    }
   ],
   "source": [
    "for o in or_groups:\n",
    "    print(tuple([(rdflib.term.URIRef('http://www.w3.org/ns/shacl#class'), 'http://www.w3.org/ns/org#Organization')])==o)"
   ]
  },
  {
   "cell_type": "code",
   "execution_count": 33,
   "id": "c16ac807",
   "metadata": {},
   "outputs": [
    {
     "data": {
      "text/plain": [
       "True"
      ]
     },
     "execution_count": 33,
     "metadata": {},
     "output_type": "execute_result"
    }
   ],
   "source": [
    "tuple([(rdflib.term.URIRef('http://www.w3.org/ns/shacl#class'), 'http://www.w3.org/ns/org#Organization')]) in or_groups"
   ]
  },
  {
   "cell_type": "code",
   "execution_count": 1,
   "id": "62a8d8b6",
   "metadata": {},
   "outputs": [],
   "source": [
    "from rdflib import Graph, RDF"
   ]
  },
  {
   "cell_type": "code",
   "execution_count": 13,
   "id": "15eaaf98",
   "metadata": {},
   "outputs": [],
   "source": [
    "g = Graph().parse(\"/Users/duanxuemin/Desktop/PhD/projects/cm2shacl/data/eforms/ontology/ePO_core.ttl\", format=\"turtle\")"
   ]
  },
  {
   "cell_type": "code",
   "execution_count": null,
   "id": "43a9f606",
   "metadata": {},
   "outputs": [],
   "source": []
  }
 ],
 "metadata": {
  "kernelspec": {
   "display_name": "meaningfy",
   "language": "python",
   "name": "python3"
  },
  "language_info": {
   "codemirror_mode": {
    "name": "ipython",
    "version": 3
   },
   "file_extension": ".py",
   "mimetype": "text/x-python",
   "name": "python",
   "nbconvert_exporter": "python",
   "pygments_lexer": "ipython3",
   "version": "3.11.11"
  }
 },
 "nbformat": 4,
 "nbformat_minor": 5
}
